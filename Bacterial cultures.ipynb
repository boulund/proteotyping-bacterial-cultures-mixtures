{
 "cells": [
  {
   "cell_type": "markdown",
   "metadata": {
    "collapsed": true
   },
   "source": [
    "# Proteotyping of pure bacterial cultures\n",
    "Pure cultures of four species of bacteria: *Escherichia coli*, *Pseudomonas aeruginosa*, *Staphyoloccus aureus*, *Streptococcus pneumoniae*. Each species was grown in three identical replicates and run through the proteotyping workflow.\n",
    "\n",
    "The first cell imports the required libraries.\n"
   ]
  },
  {
   "cell_type": "code",
   "execution_count": 1,
   "metadata": {
    "collapsed": false
   },
   "outputs": [],
   "source": [
    "import matplotlib as mpl, matplotlib\n",
    "matplotlib.use(\"Agg\")\n",
    "%matplotlib inline\n",
    "from pylab import *\n",
    "import numpy as np\n",
    "import pandas as pd\n",
    "from scipy.stats import sem\n",
    "from os import listdir, path\n",
    "\n",
    "\n",
    "pd.set_option('display.max_columns', 500)\n",
    "pd.set_option('display.width', 1000)"
   ]
  },
  {
   "cell_type": "markdown",
   "metadata": {},
   "source": [
    "## Bacterial samples proteotyping raw data\n",
    "Raw data from the proteotyping of real bacterial samples was manually entered into the next cell of the notebook."
   ]
  },
  {
   "cell_type": "code",
   "execution_count": 2,
   "metadata": {
    "collapsed": false
   },
   "outputs": [
    {
     "name": "stdout",
     "output_type": "stream",
     "text": [
      "          Species Number of spectra Discriminative fragments Correct assignments True positive rate (TPR)\n",
      "0         E. coli              2238                      287                 262                 0.912892\n",
      "1         E. coli              3367                      380                 348                 0.915789\n",
      "2         E. coli              3372                      418                 379                 0.906699\n",
      "3   P. aeruginosa              2995                     1434                1417                 0.988145\n",
      "4   P. aeruginosa              1698                      823                 813                 0.987849\n",
      "5   P. aeruginosa              3580                     1697                1674                 0.986447\n",
      "6       S. aureus              2724                     1435                1415                 0.986063\n",
      "7       S. aureus              2227                     1123                1111                 0.989314\n",
      "8       S. aureus              2847                     1496                1481                 0.989973\n",
      "9   S. pneumoniae              3774                      465                 437                 0.939785\n",
      "10  S. pneumoniae              3705                      433                 398                 0.919169\n",
      "11  S. pneumoniae              3190                      352                 326                 0.926136\n"
     ]
    }
   ],
   "source": [
    "species = pd.Series([\"E. coli\", \"E. coli\", \"E. coli\", \n",
    "                     \"P. aeruginosa\", \"P. aeruginosa\", \"P. aeruginosa\", \n",
    "                     \"S. aureus\", \"S. aureus\", \"S. aureus\", \n",
    "                     \"S. pneumoniae\", \"S. pneumoniae\", \"S. pneumoniae\"],\n",
    "                   name=\"Species\")\n",
    "numspectra = pd.Series([2238, 3367, 3372,\n",
    "                        2995, 1698, 3580,\n",
    "                        2724, 2227, 2847,\n",
    "                        #1585, 2359, 2809], # EU295-EU297 CCUG 28588 (R6)\n",
    "                        #2668, 2697, 2849], # EU317-EU319 CCUG 35272\n",
    "                        3774, 3705, 3190], # EU405-EU407 CCUG 28588 (R6)\n",
    "                        #1986, 1143, 2275], # Roger's samples; not for us!\n",
    "                       name=\"Number of spectra\")\n",
    "discriminative_fragments = pd.Series([287, 380, 418,\n",
    "                                      1434, 823, 1697,\n",
    "                                      1435, 1123, 1496,\n",
    "                                      #195, 317, 382], # EU295-EU297 CCUG 28588 (R6)\n",
    "                                      #358, 349, 393], # EU317-EU319 CCUG 35272\n",
    "                                      465, 433, 352], # EU405-EU407 CCUG 28588 (R6)\n",
    "                                      #290, 169, 319],# Roger's samples; not for us!\n",
    "                                     name=\"Discriminative fragments\")\n",
    "correct_assignments = pd.Series([262, 348, 379,\n",
    "                                   1417, 813, 1674, \n",
    "                                   1415, 1111, 1481,\n",
    "                                   #179, 280, 328], # EU295-EU297 CCUG 28588 (R6)\n",
    "                                   #327, 314, 363], # EU317-EU319 CCUG 35272\n",
    "                                   437, 398, 326], # EU405-EU407 CCUG 28588 (R6)\n",
    "                                   #270, 157, 291], # Roger's samples; not for us!\n",
    "                                name=\"Correct assignments\")\n",
    "TPR = pd.Series(correct_assignments / discriminative_fragments, name=\"True positive rate (TPR)\")\n",
    "raw_data = pd.DataFrame([species, numspectra, discriminative_fragments, correct_assignments, TPR]).transpose()\n",
    "print(raw_data)"
   ]
  },
  {
   "cell_type": "code",
   "execution_count": 4,
   "metadata": {
    "collapsed": false
   },
   "outputs": [
    {
     "name": "stdout",
     "output_type": "stream",
     "text": [
      "Means\n",
      "               Number of spectra  Discriminative fragments  Correct assignments  True positive rate (TPR)\n",
      "Species                                                                                                  \n",
      "E. coli              2992.333333                361.666667           329.666667                  0.911793\n",
      "P. aeruginosa        2757.666667               1318.000000          1301.333333                  0.987480\n",
      "S. aureus            2599.333333               1351.333333          1335.666667                  0.988450\n",
      "S. pneumoniae        3556.333333                416.666667           387.000000                  0.928363\n",
      "Standard deviations\n",
      "               Number of spectra  Discriminative fragments  Correct assignments  True positive rate (TPR)\n",
      "Species                                                                                                  \n",
      "E. coli               533.398121                 55.029285            49.492985                  0.003792\n",
      "P. aeruginosa         786.437679                366.115647           360.891797                  0.000741\n",
      "S. aureus             268.025289                163.365303           161.132106                  0.001709\n",
      "S. pneumoniae         260.563918                 47.555815            45.978256                  0.008563\n",
      "Overall maximum: 3774\n",
      "Overall minimum: 1698\n"
     ]
    }
   ],
   "source": [
    "print(\"Means\")\n",
    "print(raw_data.groupby(\"Species\").aggregate(lambda x: np.mean(x)))\n",
    "print(\"Standard deviations\")\n",
    "print(raw_data.groupby(\"Species\").aggregate(lambda x: np.std(x)))\n",
    "print(\"Overall maximum:\", np.max(raw_data[\"Number of spectra\"]) )\n",
    "print(\"Overall minimum:\", np.min(raw_data[\"Number of spectra\"]))"
   ]
  },
  {
   "cell_type": "markdown",
   "metadata": {},
   "source": [
    "## Pure bacterial samples barchart\n",
    "Plot a barchart of the average sensitivity for each species, along with standard error bars (SEM) to indicate the variability of the results."
   ]
  },
  {
   "cell_type": "code",
   "execution_count": 5,
   "metadata": {
    "collapsed": false
   },
   "outputs": [
    {
     "name": "stdout",
     "output_type": "stream",
     "text": [
      "               <lambda>       sem\n",
      "Species                          \n",
      "E. coli        0.911793  0.002681\n",
      "P. aeruginosa  0.987480  0.000524\n",
      "S. aureus      0.988450  0.001209\n",
      "S. pneumoniae  0.928363  0.006055\n"
     ]
    }
   ],
   "source": [
    "means_sems = raw_data.groupby(\"Species\")[\"True positive rate (TPR)\"].aggregate([lambda x: np.mean(x), sem])\n",
    "print(means_sems)\n",
    "names = means_sems.index\n",
    "means = means_sems[\"<lambda>\"]\n",
    "sems = means_sems[\"sem\"]"
   ]
  },
  {
   "cell_type": "code",
   "execution_count": 6,
   "metadata": {
    "collapsed": false
   },
   "outputs": [
    {
     "data": {
      "image/png": "[encoded data removed]",
      "text/plain": [
       "<matplotlib.figure.Figure at 0xe73ebbb0b8>"
      ]
     },
     "metadata": {},
     "output_type": "display_data"
    }
   ],
   "source": [
    "font = {\"family\": \"sans\",\n",
    "        \"weight\": \"normal\",\n",
    "        \"size\": 14}\n",
    "mpl.rc(\"font\", **font)\n",
    "\n",
    "indices = np.arange(0, len(means_sems))\n",
    "width = 0.45\n",
    "\n",
    "fig, ax = plt.subplots()\n",
    "rects = ax.bar(indices, means, width, yerr=sems, color=\"steelblue\", error_kw=dict(ecolor=\"black\"))\n",
    "ax.spines[\"top\"].set_color(\"none\")\n",
    "ax.spines[\"right\"].set_color(\"none\")\n",
    "ax.xaxis.set_ticks_position(\"none\")\n",
    "ax.yaxis.set_ticks_position(\"left\")\n",
    "\n",
    "# Adjust plot area, set tick labels\n",
    "ylim([0.8, 1])\n",
    "xlim([-width/2, len(names)-width/2])\n",
    "xlabel(\"Species\")\n",
    "ylabel(\"True positive rate (TPR)\")\n",
    "ax.set_xticks(indices + width/2)\n",
    "ax.set_xticklabels(names)\n",
    "\n",
    "# Adjust figure size, save figures\n",
    "fig.set_figheight(7)\n",
    "fig.set_figwidth(10)\n",
    "plt.savefig(\"real_cultures_tpr.png\")\n",
    "plt.savefig(\"real_cultures_tpr.pdf\")"
   ]
  },
  {
   "cell_type": "markdown",
   "metadata": {
    "collapsed": true
   },
   "source": [
    "# Mixed samples\n",
    "Mixed samples with equal ratio of all four species were run (1:1:1:1)."
   ]
  },
  {
   "cell_type": "code",
   "execution_count": 7,
   "metadata": {
    "collapsed": false
   },
   "outputs": [
    {
     "name": "stdout",
     "output_type": "stream",
     "text": [
      "          Species Number of spectra Discriminative fragments Species assignments Estimated abundance\n",
      "0         E. coli              2753                      736                  61           0.0828804\n",
      "1         E. coli              3418                      943                  72           0.0763521\n",
      "2         E. coli              3144                      899                  63           0.0700779\n",
      "3   P. aeruginosa              2753                      736                 344            0.467391\n",
      "4   P. aeruginosa              3418                      943                 403            0.427359\n",
      "5   P. aeruginosa              3144                      899                 378            0.420467\n",
      "6       S. aureus              2753                      736                 246            0.334239\n",
      "7       S. aureus              3418                      943                 360             0.38176\n",
      "8       S. aureus              3144                      899                 358             0.39822\n",
      "9   S. pneumoniae              2753                      736                  67           0.0910326\n",
      "10  S. pneumoniae              3418                      943                  84           0.0890774\n",
      "11  S. pneumoniae              3144                      899                  82           0.0912125\n"
     ]
    }
   ],
   "source": [
    "# Raw data for mixed samples\n",
    "species = pd.Series([\"E. coli\", \"E. coli\", \"E. coli\", \n",
    "                     \"P. aeruginosa\", \"P. aeruginosa\", \"P. aeruginosa\", \n",
    "                     \"S. aureus\", \"S. aureus\", \"S. aureus\", \n",
    "                     \"S. pneumoniae\", \"S. pneumoniae\", \"S. pneumoniae\"],\n",
    "                   name=\"Species\")\n",
    "numspectra_mix = pd.Series([2753, 3418, 3144,\n",
    "                        2753, 3418, 3144,\n",
    "                        2753, 3418, 3144,\n",
    "                        2753, 3418, 3144],\n",
    "                       name=\"Number of spectra\")\n",
    "discriminative_fragments = pd.Series([736, 943, 899,\n",
    "                                      736, 943, 899,\n",
    "                                      736, 943, 899,\n",
    "                                      736, 943, 899],\n",
    "                                     name=\"Discriminative fragments\")\n",
    "species_assignments = pd.Series([61,  72,  63,\n",
    "                                 344, 403, 378, \n",
    "                                 246, 360, 358,\n",
    "                                 67,  84,  82], \n",
    "                                name=\"Species assignments\")\n",
    "estimated_abundance = pd.Series(species_assignments / discriminative_fragments, name=\"Estimated abundance\")\n",
    "mix_data = pd.DataFrame([species, numspectra_mix, discriminative_fragments, species_assignments, estimated_abundance]).transpose()\n",
    "print(mix_data)"
   ]
  },
  {
   "cell_type": "code",
   "execution_count": 8,
   "metadata": {
    "collapsed": false
   },
   "outputs": [
    {
     "name": "stdout",
     "output_type": "stream",
     "text": [
      "Means\n",
      "               Number of spectra  Discriminative fragments  Species assignments  Estimated abundance\n",
      "Species                                                                                             \n",
      "E. coli                     3105                859.333333            65.333333             0.076437\n",
      "P. aeruginosa               3105                859.333333           375.000000             0.438406\n",
      "S. aureus                   3105                859.333333           321.333333             0.371407\n",
      "S. pneumoniae               3105                859.333333            77.666667             0.090441\n",
      "Standard deviations\n",
      "               Number of spectra  Discriminative fragments  Species assignments  Estimated abundance\n",
      "Species                                                                                             \n",
      "E. coli               272.882148                 89.040565             4.784233             0.005227\n",
      "P. aeruginosa         272.882148                 89.040565            24.179881             0.020688\n",
      "S. aureus             272.882148                 89.040565            53.274968             0.027127\n",
      "S. pneumoniae         272.882148                 89.040565             7.586538             0.000967\n",
      "Overall average spectra: 3105.0\n",
      "Overall average discriminative: 859.333333333\n",
      "Overall maximum: 3418\n",
      "Overall minimum: 2753\n"
     ]
    }
   ],
   "source": [
    "print(\"Means\")\n",
    "print(mix_data.groupby(\"Species\").aggregate(lambda x: np.mean(x)))\n",
    "print(\"Standard deviations\")\n",
    "print(mix_data.groupby(\"Species\").aggregate(lambda x: np.std(x)))\n",
    "print(\"Overall average spectra:\", np.mean(mix_data[\"Number of spectra\"]))\n",
    "print(\"Overall average discriminative:\", np.mean(mix_data[\"Discriminative fragments\"]))\n",
    "print(\"Overall maximum:\", np.max(mix_data[\"Number of spectra\"]) )\n",
    "print(\"Overall minimum:\", np.min(mix_data[\"Number of spectra\"]))"
   ]
  },
  {
   "cell_type": "markdown",
   "metadata": {},
   "source": [
    "## Adjustment ratios\n",
    "The adjustment ratio used to modify the raw estimations of abundance are calculated from the TPR data of the pure bacterial cultures.  "
   ]
  },
  {
   "cell_type": "code",
   "execution_count": 9,
   "metadata": {
    "collapsed": false
   },
   "outputs": [
    {
     "name": "stdout",
     "output_type": "stream",
     "text": [
      "          Species Number of spectra Discriminative fragments Species assignments Estimated abundance  Corrected abundance\n",
      "0         E. coli              2753                      736                  61           0.0828804             0.747072\n",
      "1         E. coli              3418                      943                  72           0.0763521             0.688226\n",
      "2         E. coli              3144                      899                  63           0.0700779             0.631671\n",
      "3   P. aeruginosa              2753                      736                 344            0.467391             0.987782\n",
      "4   P. aeruginosa              3418                      943                 403            0.427359             0.903179\n",
      "5   P. aeruginosa              3144                      899                 378            0.420467             0.888612\n",
      "6       S. aureus              2753                      736                 246            0.334239             0.651737\n",
      "7       S. aureus              3418                      943                 360             0.38176             0.744399\n",
      "8       S. aureus              3144                      899                 358             0.39822             0.776495\n",
      "9   S. pneumoniae              2753                      736                  67           0.0910326             0.839245\n",
      "10  S. pneumoniae              3418                      943                  84           0.0890774             0.821220\n",
      "11  S. pneumoniae              3144                      899                  82           0.0912125             0.840903\n"
     ]
    }
   ],
   "source": [
    "# Compute adjustment ratios based on data from pure samples\n",
    "adjustment_ratios = {}\n",
    "for name, group in raw_data.groupby(\"Species\"):\n",
    "    adjustment_ratios[name] = np.mean(group[\"Correct assignments\"] / group[\"Number of spectra\"])\n",
    "\n",
    "# Add a column with corrected values for estimated abundance\n",
    "adjusted_abundance = pd.Series(index=mix_data.index)\n",
    "for row in mix_data.iterrows():\n",
    "    adjusted_abundance[row[0]] = row[1][\"Estimated abundance\"] / adjustment_ratios[row[1][\"Species\"]]\n",
    "mix_data.loc[:,'Corrected abundance'] = adjusted_abundance\n",
    "\n",
    "print(mix_data)"
   ]
  },
  {
   "cell_type": "markdown",
   "metadata": {},
   "source": [
    "## Plot mixture and adjusted mixture results\n",
    "The per species results from the mixed samples are plotted in a bar plot with standard error bars. The adjusted values are plotted alongside the raw per species TPR from the mixed samples to illustrate how adjusting the values improve the results. "
   ]
  },
  {
   "cell_type": "code",
   "execution_count": 10,
   "metadata": {
    "collapsed": false
   },
   "outputs": [
    {
     "name": "stdout",
     "output_type": "stream",
     "text": [
      "Mixed samples without correction\n",
      "               <lambda>       sem\n",
      "Species                          \n",
      "E. coli        0.076437  0.003696\n",
      "P. aeruginosa  0.438406  0.014629\n",
      "S. aureus      0.371407  0.019182\n",
      "S. pneumoniae  0.090441  0.000684\n",
      "Mixed samples with correction\n",
      "               <lambda>       sem\n",
      "Species                          \n",
      "E. coli        0.688990  0.033315\n",
      "P. aeruginosa  0.926524  0.030916\n",
      "S. aureus      0.724210  0.037402\n",
      "S. pneumoniae  0.833789  0.006303\n",
      "\n",
      "Normalized mixed samples with correction\n",
      "Species        Abundance      SEM\n",
      "E. coli        0.217106  0.010498\n",
      "P. aeruginosa  0.291955  0.009742\n",
      "S. aureus      0.228205  0.011786\n",
      "S. pneumoniae  0.262734  0.001986\n"
     ]
    }
   ],
   "source": [
    "# Reduce estimated abundances for the mixed samples for use in bar plot\n",
    "mix_means_sems = mix_data.groupby(\"Species\")[\"Estimated abundance\"].aggregate([lambda x: np.mean(x), sem])\n",
    "print(\"Mixed samples without correction\")\n",
    "print(mix_means_sems)\n",
    "mix_names = mix_means_sems.index\n",
    "mix_means = mix_means_sems[\"<lambda>\"]\n",
    "mix_sems = mix_means_sems[\"sem\"]\n",
    "\n",
    "# Reduce corrected abundance estimates for use in bar plot\n",
    "mix_means_sems_corrected = mix_data.groupby(\"Species\")[\"Corrected abundance\"].aggregate([lambda x: np.mean(x), sem])\n",
    "print(\"Mixed samples with correction\")\n",
    "print(mix_means_sems_corrected)\n",
    "mix_means_corrected = mix_means_sems_corrected[\"<lambda>\"]\n",
    "mix_sems_corrected = mix_means_sems_corrected[\"sem\"]\n",
    "\n",
    "# Normalize the corrected abundance estimates for the mixed samples\n",
    "mix_means_corrected_normalized = mix_means_corrected / sum(mix_means_corrected)\n",
    "mix_sems_corrected_normalized = mix_sems_corrected / sum(mix_means_corrected) \n",
    "print(\"\\nNormalized mixed samples with correction\")\n",
    "print(\"{:<14} {:>8} {:>8}\".format(\"Species\", \"Abundance\", \"SEM\"))\n",
    "for species, v1, v2 in zip(mix_names, mix_means_corrected_normalized, mix_sems_corrected_normalized):\n",
    "    print(\"{:<14} {:<1.6f}  {:<1.6f}\".format(species, v1, v2))"
   ]
  },
  {
   "cell_type": "code",
   "execution_count": 11,
   "metadata": {
    "collapsed": false
   },
   "outputs": [
    {
     "data": {
      "image/png": "[encoded data removed]",
      "text/plain": [
       "<matplotlib.figure.Figure at 0xe73f04d5f8>"
      ]
     },
     "metadata": {},
     "output_type": "display_data"
    }
   ],
   "source": [
    "# Adjust bar plot settings\n",
    "font = {\"family\": \"sans\",\n",
    "        \"weight\": \"normal\",\n",
    "        \"size\": 12}\n",
    "mpl.rc(\"font\", **font)\n",
    "indices = np.arange(0, len(mix_names))\n",
    "width = 0.45\n",
    "\n",
    "# Create plot figure with two subplots axes\n",
    "fig_mix, (ax_mix1, ax_mix2) = plt.subplots(1, 2) #, sharey=True)\n",
    "\n",
    "# First plot with raw unmodified abundance estimations\n",
    "rects_mix1 = ax_mix1.bar(indices, \n",
    "                         mix_means, \n",
    "                         width, \n",
    "                         color=\"steelblue\", \n",
    "                         yerr=mix_sems, \n",
    "                         error_kw=dict(ecolor=\"black\"))\n",
    "ax_mix1.spines[\"top\"].set_color(\"none\")\n",
    "ax_mix1.spines[\"right\"].set_color(\"none\")\n",
    "ax_mix1.xaxis.set_ticks_position(\"none\")\n",
    "ax_mix1.yaxis.set_ticks_position(\"left\")\n",
    "# Adjust plot area, set tick labels\n",
    "ax_mix1.set_xlim([-width/2, len(mix_names)-width/2])\n",
    "ax_mix1.set_ylim([0, 0.5])\n",
    "ax_mix1.set_xlabel(\"Species\")\n",
    "ax_mix1.set_ylabel(\"Estimated abundance\")\n",
    "ax_mix1.set_title(\"Estimated abundance (unmodified)\")\n",
    "ax_mix1.set_xticks(indices + width/2)\n",
    "ax_mix1.set_xticklabels(mix_names)\n",
    "ax_mix1.set_yticks(np.arange(0, 0.51, 0.05))\n",
    "# Place expected ratio line\n",
    "ax_mix1.plot([-.5,4], [0.25,0.25], color=\"r\")\n",
    "\n",
    "# Second plot with corrected and normalized estimated abundances\n",
    "rects_mix2 = ax_mix2.bar(indices, \n",
    "                         mix_means_corrected_normalized, \n",
    "                         width, \n",
    "                         color=\"steelblue\", \n",
    "                         yerr=mix_sems_corrected_normalized,  \n",
    "                         error_kw=dict(ecolor=\"black\"))\n",
    "ax_mix2.spines[\"top\"].set_color(\"none\")\n",
    "ax_mix2.spines[\"right\"].set_color(\"none\")\n",
    "ax_mix2.xaxis.set_ticks_position(\"none\")\n",
    "ax_mix2.yaxis.set_ticks_position(\"left\")\n",
    "# Adjust plot area, set tick labels\n",
    "ax_mix2.set_xlim([-width/2, len(mix_names)-width/2])\n",
    "ax_mix2.set_ylim([0, 0.5])\n",
    "ax_mix2.set_xlabel(\"Species\")\n",
    "ax_mix2.set_ylabel(\"Estimated abundance\")\n",
    "ax_mix2.set_title(\"Estimated abundance (corrected)\")\n",
    "ax_mix2.set_xticks(indices + width/2)\n",
    "ax_mix2.set_xticklabels(mix_names)\n",
    "ax_mix2.set_yticks(np.arange(0, 0.51, 0.05))\n",
    "# Place expected ratio line\n",
    "ax_mix2.plot([-.5,4], [0.25,0.25], color=\"r\")\n",
    "\n",
    "# Adjust figure size, save figures\n",
    "fig_mix.set_figheight(7)\n",
    "fig_mix.set_figwidth(14)\n",
    "plt.savefig(\"real_cultures_mix_tpr.png\")\n",
    "plt.savefig(\"real_cultures_mix_tpr.pdf\")"
   ]
  },
  {
   "cell_type": "markdown",
   "metadata": {},
   "source": [
    "# Supplementary figure normalized with in-silico results"
   ]
  },
  {
   "cell_type": "code",
   "execution_count": 12,
   "metadata": {
    "collapsed": false
   },
   "outputs": [
    {
     "name": "stdout",
     "output_type": "stream",
     "text": [
      "Mixed samples with correction\n",
      "               <lambda>       sem\n",
      "Species                          \n",
      "E. coli        0.282680  0.013669\n",
      "P. aeruginosa  0.786943  0.026258\n",
      "S. aureus      0.710554  0.036697\n",
      "S. pneumoniae  0.505821  0.003824\n",
      "\n",
      "Normalized mixed samples with in silico correction\n",
      "Species        Abundance      SEM\n",
      "E. coli        0.123657  0.005979\n",
      "P. aeruginosa  0.344245  0.011487\n",
      "S. aureus      0.310829  0.016053\n",
      "S. pneumoniae  0.221269  0.001673\n"
     ]
    }
   ],
   "source": [
    "# Add a column with in-silico-corrected values for estimated abundance\n",
    "insilico_abundance = pd.Series(index=mix_data.index)\n",
    "insilico_adjustment_ratios = {\"E. coli\": 0.2704, \n",
    "                              \"P. aeruginosa\": 0.5571, \n",
    "                              \"S. aureus\":  0.5227, \n",
    "                              \"S. pneumoniae\": 0.1788}\n",
    "for row in mix_data.iterrows():\n",
    "    insilico_abundance[row[0]] = row[1][\"Estimated abundance\"] / insilico_adjustment_ratios[row[1][\"Species\"]]\n",
    "mix_data.loc[:,'Insilico corrected abundance'] = insilico_abundance\n",
    "\n",
    "\n",
    "# Reduce corrected abundance estimates for use in bar plot\n",
    "mix_means_sems_corrected_insilico = mix_data.groupby(\"Species\")[\"Insilico corrected abundance\"].aggregate([lambda x: np.mean(x), sem])\n",
    "print(\"Mixed samples with correction\")\n",
    "print(mix_means_sems_corrected_insilico)\n",
    "mix_means_corrected_insilico = mix_means_sems_corrected_insilico[\"<lambda>\"]\n",
    "mix_sems_corrected_insilico = mix_means_sems_corrected_insilico[\"sem\"]\n",
    "\n",
    "# Normalize the corrected abundance estimates for the mixed samples\n",
    "mix_means_corrected_normalized_insilico = mix_means_corrected_insilico / sum(mix_means_corrected_insilico)\n",
    "mix_sems_corrected_normalized_insilico = mix_sems_corrected_insilico / sum(mix_means_corrected_insilico) \n",
    "print(\"\\nNormalized mixed samples with in silico correction\")\n",
    "print(\"{:<14} {:>8} {:>8}\".format(\"Species\", \"Abundance\", \"SEM\"))\n",
    "for species, v1, v2 in zip(mix_names, mix_means_corrected_normalized_insilico, mix_sems_corrected_normalized_insilico):\n",
    "    print(\"{:<14} {:<1.6f}  {:<1.6f}\".format(species, v1, v2))"
   ]
  },
  {
   "cell_type": "code",
   "execution_count": 13,
   "metadata": {
    "collapsed": false
   },
   "outputs": [
    {
     "data": {
      "image/png": "[encoded data removed]",
      "text/plain": [
       "<matplotlib.figure.Figure at 0xe73fb1c2e8>"
      ]
     },
     "metadata": {},
     "output_type": "display_data"
    }
   ],
   "source": [
    "# Adjust bar plot settings\n",
    "font = {\"family\": \"sans\",\n",
    "        \"weight\": \"normal\",\n",
    "        \"size\": 12}\n",
    "mpl.rc(\"font\", **font)\n",
    "indices = np.arange(0, len(mix_names))\n",
    "width = 0.45\n",
    "\n",
    "# Create plot figure with three  subplots axes\n",
    "fig_mix, (ax_mix1, ax_mix2, ax_mix3) = plt.subplots(1, 3) #, sharey=True)\n",
    "\n",
    "# First plot with raw unmodified abundance estimations\n",
    "rects_mix1 = ax_mix1.bar(indices, \n",
    "                         mix_means, \n",
    "                         width, \n",
    "                         color=\"steelblue\", \n",
    "                         yerr=mix_sems, \n",
    "                         error_kw=dict(ecolor=\"black\"))\n",
    "ax_mix1.spines[\"top\"].set_color(\"none\")\n",
    "ax_mix1.spines[\"right\"].set_color(\"none\")\n",
    "ax_mix1.xaxis.set_ticks_position(\"none\")\n",
    "ax_mix1.yaxis.set_ticks_position(\"left\")\n",
    "# Adjust plot area, set tick labels\n",
    "ax_mix1.set_xlim([-width/2, len(mix_names)-width/2])\n",
    "ax_mix1.set_ylim([0, 0.5])\n",
    "ax_mix1.set_xlabel(\"Species\")\n",
    "ax_mix1.set_ylabel(\"Estimated abundance\")\n",
    "ax_mix1.set_title(\"Estimated abundance (unmodified)\")\n",
    "ax_mix1.set_xticks(indices + width/2)\n",
    "ax_mix1.set_xticklabels(mix_names)\n",
    "ax_mix1.set_yticks(np.arange(0, 0.51, 0.05))\n",
    "# Place expected ratio line\n",
    "ax_mix1.plot([-.5,4], [0.25,0.25], color=\"r\")\n",
    "\n",
    "# Second plot with corrected and normalized estimated abundances\n",
    "rects_mix2 = ax_mix2.bar(indices, \n",
    "                         mix_means_corrected_normalized, \n",
    "                         width, \n",
    "                         color=\"steelblue\", \n",
    "                         yerr=mix_sems_corrected_normalized,  \n",
    "                         error_kw=dict(ecolor=\"black\"))\n",
    "ax_mix2.spines[\"top\"].set_color(\"none\")\n",
    "ax_mix2.spines[\"right\"].set_color(\"none\")\n",
    "ax_mix2.xaxis.set_ticks_position(\"none\")\n",
    "ax_mix2.yaxis.set_ticks_position(\"left\")\n",
    "# Adjust plot area, set tick labels\n",
    "ax_mix2.set_xlim([-width/2, len(mix_names)-width/2])\n",
    "ax_mix2.set_ylim([0, 0.5])\n",
    "ax_mix2.set_xlabel(\"Species\")\n",
    "ax_mix2.set_ylabel(\"Estimated abundance\")\n",
    "ax_mix2.set_title(\"Estimated abundance (corrected)\")\n",
    "ax_mix2.set_xticks(indices + width/2)\n",
    "ax_mix2.set_xticklabels(mix_names)\n",
    "ax_mix2.set_yticks(np.arange(0, 0.51, 0.05))\n",
    "# Place expected ratio line\n",
    "ax_mix2.plot([-.5,4], [0.25,0.25], color=\"r\")\n",
    "\n",
    "# Third plot with in silico corrected and normalized estimated abundances\n",
    "rects_mix3 = ax_mix3.bar(indices, \n",
    "                         mix_means_corrected_normalized_insilico, \n",
    "                         width, \n",
    "                         color=\"steelblue\", \n",
    "                         yerr=mix_sems_corrected_normalized_insilico,  \n",
    "                         error_kw=dict(ecolor=\"black\"))\n",
    "ax_mix3.spines[\"top\"].set_color(\"none\")\n",
    "ax_mix3.spines[\"right\"].set_color(\"none\")\n",
    "ax_mix3.xaxis.set_ticks_position(\"none\")\n",
    "ax_mix3.yaxis.set_ticks_position(\"left\")\n",
    "# Adjust plot area, set tick labels\n",
    "ax_mix3.set_xlim([-width/2, len(mix_names)-width/2])\n",
    "ax_mix3.set_ylim([0, 0.5])\n",
    "ax_mix3.set_xlabel(\"Species\")\n",
    "ax_mix3.set_ylabel(\"Estimated abundance\")\n",
    "ax_mix3.set_title(\"Estimated abundance (in silico corrected)\")\n",
    "ax_mix3.set_xticks(indices + width/2)\n",
    "ax_mix3.set_xticklabels(mix_names)\n",
    "ax_mix3.set_yticks(np.arange(0, 0.51, 0.05))\n",
    "# Place expected ratio line\n",
    "ax_mix3.plot([-.5,4], [0.25,0.25], color=\"r\")\n",
    "\n",
    "# Adjust figure size, save figures\n",
    "fig_mix.set_figheight(7)\n",
    "fig_mix.set_figwidth(21)\n",
    "plt.savefig(\"real_cultures_mix_tpr_insilico.png\")\n",
    "plt.savefig(\"real_cultures_mix_tpr_insilico.pdf\")"
   ]
  },
  {
   "cell_type": "code",
   "execution_count": 14,
   "metadata": {
    "collapsed": false
   },
   "outputs": [
    {
     "name": "stdout",
     "output_type": "stream",
     "text": [
      "          Species Estimated abundance  Corrected abundance  Insilico corrected abundance\n",
      "0         E. coli           0.0828804             0.747072                      0.306510\n",
      "1         E. coli           0.0763521             0.688226                      0.282367\n",
      "2         E. coli           0.0700779             0.631671                      0.259164\n",
      "3   P. aeruginosa            0.467391             0.987782                      0.838972\n",
      "4   P. aeruginosa            0.427359             0.903179                      0.767115\n",
      "5   P. aeruginosa            0.420467             0.888612                      0.754743\n",
      "6       S. aureus            0.334239             0.651737                      0.639447\n",
      "7       S. aureus             0.38176             0.744399                      0.730362\n",
      "8       S. aureus             0.39822             0.776495                      0.761852\n",
      "9   S. pneumoniae           0.0910326             0.839245                      0.509131\n",
      "10  S. pneumoniae           0.0890774             0.821220                      0.498196\n",
      "11  S. pneumoniae           0.0912125             0.840903                      0.510137\n"
     ]
    }
   ],
   "source": [
    "print(mix_data[[\"Species\", \"Estimated abundance\", \"Corrected abundance\", \"Insilico corrected abundance\"]])"
   ]
  },
  {
   "cell_type": "code",
   "execution_count": null,
   "metadata": {
    "collapsed": true
   },
   "outputs": [],
   "source": []
  }
 ],
 "metadata": {
  "kernelspec": {
   "display_name": "Python 3",
   "language": "python",
   "name": "python3"
  },
  "language_info": {
   "codemirror_mode": {
    "name": "ipython",
    "version": 3
   },
   "file_extension": ".py",
   "mimetype": "text/x-python",
   "name": "python",
   "nbconvert_exporter": "python",
   "pygments_lexer": "ipython3",
   "version": "3.5.1"
  }
 },
 "nbformat": 4,
 "nbformat_minor": 0
}
