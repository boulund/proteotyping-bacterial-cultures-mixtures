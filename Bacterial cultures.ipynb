{
 "cells": [
  {
   "cell_type": "markdown",
   "metadata": {
    "collapsed": true
   },
   "source": [
    "# Proteotyping of pure bacterial cultures\n",
    "Pure cultures of four species of bacteria: *Escherichia coli*, *Pseudomonas aeruginosa*, *Staphyoloccus aureus*, *Streptococcus pneumoniae*. Each species was cultured in three identical replicates and run through the following workflow steps:\n",
    "\n",
    " 1. Cell culture\n",
    " 2. Proteomics prep\n",
    " 3. Tandem MS\n",
    " 4. ReAdW raw to mzXML conversion\n",
    " 5. X!Tandem peptide search\n",
    " 6. BLAT alignments of peptides to translated genome sequences\n",
    " 7. TCUP\n",
    "\n",
    "The following samples were used:\n",
    "\n",
    "    QE_150508_32\t \tS. pneumoniae\n",
    "    QE_150508_35\t \tS. pneumoniae\n",
    "    QE_150508_38\t \tS. pneumoniae\n",
    "    QE_150611_128\t\tS. aureus\n",
    "    QE_150611_131\t\tS. aureus\n",
    "    QE_150611_137\t\tS. aureus\n",
    "    QE_150611_140\t\tE. coli\n",
    "    QE_150611_143\t\tE. coli\n",
    "    QE_150611_146\t\tE. coli\n",
    "    QE_150611_152\t\tP. aeruginosa\n",
    "    QE_150611_155\t\tP. aeruginosa\n",
    "    QE_150611_158\t\tP. aeruginosa\n",
    "    QE_150611_161\t\tP. aeruginosa, E. coli, S. aureus, S. pneumoniae, 1:1:1:1 mixture\n",
    "    QE_150611_164\t\tP. aeruginosa, E. coli, S. aureus, S. pneumoniae, 1:1:1:1 mixture\n",
    "    QE_150611_169\t\tP. aeruginosa, E. coli, S. aureus, S. pneumoniae, 1:1:1:1 mixture"
   ]
  },
  {
   "cell_type": "code",
   "execution_count": 26,
   "metadata": {
    "collapsed": false
   },
   "outputs": [
    {
     "name": "stderr",
     "output_type": "stream",
     "text": [
      "C:\\Users\\Fredrik\\Anaconda3\\lib\\site-packages\\matplotlib\\__init__.py:1350: UserWarning:  This call to matplotlib.use() has no effect\n",
      "because the backend has already been chosen;\n",
      "matplotlib.use() must be called *before* pylab, matplotlib.pyplot,\n",
      "or matplotlib.backends is imported for the first time.\n",
      "\n",
      "  warnings.warn(_use_error_msg)\n"
     ]
    }
   ],
   "source": [
    "# Import all required libraries\n",
    "import matplotlib as mpl, matplotlib\n",
    "matplotlib.use(\"Agg\")\n",
    "%matplotlib inline\n",
    "from pylab import *\n",
    "import numpy as np\n",
    "import pandas as pd\n",
    "from scipy.stats import sem\n",
    "from os import listdir, path\n",
    "\n",
    "pd.set_option('display.max_columns', 500)\n",
    "pd.set_option('display.width', 1000)"
   ]
  },
  {
   "cell_type": "markdown",
   "metadata": {},
   "source": [
    "# Pure bacterial cultures\n",
    "Data from the analysis of bacterial cultures were manually entered into the next cell of the notebook.\n",
    "The data are from the following runs:\n",
    "\n",
    "    QE_150508_{32,35,38}     S. pneumoniae\n",
    "    QE_150611_{128,131,137}  S. aureus\n",
    "    QE_150611_{140,143,146}  E. coli\n",
    "    QE_150611_{152,155,157}  P. aeruginosa"
   ]
  },
  {
   "cell_type": "code",
   "execution_count": 27,
   "metadata": {
    "collapsed": false
   },
   "outputs": [
    {
     "name": "stdout",
     "output_type": "stream",
     "text": [
      "          Species Number of spectra Discriminative peptides Correct assignments True positive rate (TPR)\n",
      "0         E. coli              2238                     284                 262                 0.922535\n",
      "1         E. coli              3367                     383                 348                 0.908616\n",
      "2         E. coli              3372                     422                 379                 0.898104\n",
      "3   P. aeruginosa              2995                    1435                1417                 0.987456\n",
      "4   P. aeruginosa              1698                     823                 813                 0.987849\n",
      "5   P. aeruginosa              3580                    1698                1674                 0.985866\n",
      "6       S. aureus              3774                     685                 661                 0.964964\n",
      "7       S. aureus              3705                     543                 527                 0.970534\n",
      "8       S. aureus              3190                     725                 707                 0.975172\n",
      "9   S. pneumoniae              5333                     466                 437                 0.937768\n",
      "10  S. pneumoniae              5193                     434                 398                 0.917051\n",
      "11  S. pneumoniae              4754                     356                 326                  0.91573\n"
     ]
    }
   ],
   "source": [
    "species = pd.Series([\"E. coli\", \"E. coli\", \"E. coli\", \n",
    "                     \"P. aeruginosa\", \"P. aeruginosa\", \"P. aeruginosa\", \n",
    "                     \"S. aureus\", \"S. aureus\", \"S. aureus\", \n",
    "                     \"S. pneumoniae\", \"S. pneumoniae\", \"S. pneumoniae\"],\n",
    "                   name=\"Species\")\n",
    "numspectra = pd.Series([2238, 3367, 3372,\n",
    "                        2995, 1698, 3580,\n",
    "                        3774, 3705, 3190, \n",
    "                        5333, 5193, 4754], \n",
    "                       name=\"Number of spectra\")\n",
    "discriminative_peptides = pd.Series([284, 383, 422,\n",
    "                                     1435, 823, 1698,\n",
    "                                     685, 543, 725,\n",
    "                                     466, 434, 356], \n",
    "                                     name=\"Discriminative peptides\")\n",
    "correct_assignments = pd.Series([262, 348, 379,\n",
    "                                 1417, 813, 1674, \n",
    "                                 661, 527, 707,\n",
    "                                 437, 398, 326], \n",
    "                                name=\"Correct assignments\")\n",
    "TPR = pd.Series(correct_assignments / discriminative_peptides, name=\"True positive rate (TPR)\")\n",
    "raw_data = pd.DataFrame([species, numspectra, discriminative_peptides, correct_assignments, TPR]).transpose()\n",
    "print(raw_data)"
   ]
  },
  {
   "cell_type": "code",
   "execution_count": 28,
   "metadata": {
    "collapsed": false
   },
   "outputs": [
    {
     "name": "stdout",
     "output_type": "stream",
     "text": [
      "Means\n",
      "               Number of spectra  Discriminative peptides  Correct assignments  True positive rate (TPR)\n",
      "Species                                                                                                 \n",
      "E. coli              2992.333333               363.000000           329.666667                  0.909752\n",
      "P. aeruginosa        2757.666667              1318.666667          1301.333333                  0.987057\n",
      "S. aureus            3556.333333               651.000000           631.666667                  0.970223\n",
      "S. pneumoniae        5093.333333               418.666667           387.000000                  0.923516\n",
      "Standard deviations\n",
      "               Number of spectra  Discriminative peptides  Correct assignments  True positive rate (TPR)\n",
      "Species                                                                                                 \n",
      "E. coli               533.398121                58.086143            49.492985                  0.010006\n",
      "P. aeruginosa         786.437679               366.566350           360.891797                  0.000858\n",
      "S. aureus             260.563918                78.093961            76.355892                  0.004174\n",
      "S. pneumoniae         246.658108                46.197643            45.978256                  0.010092\n",
      "Overall maximum: 5333\n",
      "Overall minimum: 1698\n"
     ]
    }
   ],
   "source": [
    "print(\"Means\")\n",
    "print(raw_data.groupby(\"Species\").aggregate(lambda x: np.mean(x)))\n",
    "print(\"Standard deviations\")\n",
    "print(raw_data.groupby(\"Species\").aggregate(lambda x: np.std(x)))\n",
    "print(\"Overall maximum:\", np.max(raw_data[\"Number of spectra\"]))\n",
    "print(\"Overall minimum:\", np.min(raw_data[\"Number of spectra\"]))"
   ]
  },
  {
   "cell_type": "markdown",
   "metadata": {},
   "source": [
    "## Pure bacterial samples barchart\n",
    "Plot a barchart of the average sensitivity for each species, along with standard error bars (SEM) to indicate the variability of the results."
   ]
  },
  {
   "cell_type": "code",
   "execution_count": 29,
   "metadata": {
    "collapsed": false
   },
   "outputs": [
    {
     "name": "stdout",
     "output_type": "stream",
     "text": [
      "               <lambda>       sem\n",
      "Species                          \n",
      "E. coli        0.909752  0.007075\n",
      "P. aeruginosa  0.987057  0.000606\n",
      "S. aureus      0.970223  0.002951\n",
      "S. pneumoniae  0.923516  0.007136\n"
     ]
    }
   ],
   "source": [
    "means_sems = raw_data.groupby(\"Species\")[\"True positive rate (TPR)\"].aggregate([lambda x: np.mean(x), sem])\n",
    "print(means_sems)\n",
    "names = means_sems.index\n",
    "means = means_sems[\"<lambda>\"]\n",
    "sems = means_sems[\"sem\"]"
   ]
  },
  {
   "cell_type": "code",
   "execution_count": 30,
   "metadata": {
    "collapsed": false
   },
   "outputs": [
    {
     "data": {
      "image/png": "[encoded data removed]",
      "text/plain": [
       "<matplotlib.figure.Figure at 0xf822174860>"
      ]
     },
     "metadata": {},
     "output_type": "display_data"
    }
   ],
   "source": [
    "font = {\"family\": \"sans\",\n",
    "        \"weight\": \"normal\",\n",
    "        \"size\": 14}\n",
    "mpl.rc(\"font\", **font)\n",
    "\n",
    "indices = np.arange(0, len(means_sems))\n",
    "width = 0.45\n",
    "\n",
    "fig, ax = plt.subplots()\n",
    "rects = ax.bar(indices, means, width, yerr=sems, color=\"steelblue\", error_kw=dict(ecolor=\"black\"))\n",
    "ax.spines[\"top\"].set_color(\"none\")\n",
    "ax.spines[\"right\"].set_color(\"none\")\n",
    "ax.xaxis.set_ticks_position(\"none\")\n",
    "ax.yaxis.set_ticks_position(\"left\")\n",
    "\n",
    "# Adjust plot area, set tick labels\n",
    "ylim([0.85, 1])\n",
    "xlim([-width/2, len(names)-width/2])\n",
    "xlabel(\"Species\")\n",
    "ylabel(\"True positive rate (TPR)\")\n",
    "ax.set_xticks(indices + width/2)\n",
    "ax.set_xticklabels(names, style=\"italic\")\n",
    "\n",
    "# Adjust figure size, save figures\n",
    "fig.set_figheight(10)\n",
    "fig.set_figwidth(10)\n",
    "plt.savefig(\"real_cultures_tpr.png\")\n",
    "plt.savefig(\"real_cultures_tpr.pdf\")"
   ]
  },
  {
   "cell_type": "markdown",
   "metadata": {
    "collapsed": true
   },
   "source": [
    "# Mixed bacterial cultures\n",
    "Mixed samples with equal ratio of all four species (1:1:1:1), the data are from the following runs:\n",
    "\n",
    "    QE_150611_161\n",
    "    QE_150611_164\n",
    "    QE_150611_169"
   ]
  },
  {
   "cell_type": "code",
   "execution_count": 31,
   "metadata": {
    "collapsed": false
   },
   "outputs": [
    {
     "name": "stdout",
     "output_type": "stream",
     "text": [
      "          Species Number of spectra Discriminative fragments Species assignments Estimated abundance\n",
      "0         E. coli              2753                      592                  61            0.103041\n",
      "1         E. coli              3418                      736                  72           0.0978261\n",
      "2         E. coli              3145                      683                  63           0.0922401\n",
      "3   P. aeruginosa              2753                      592                 344            0.581081\n",
      "4   P. aeruginosa              3418                      736                 403            0.547554\n",
      "5   P. aeruginosa              3145                      683                 378            0.553441\n",
      "6       S. aureus              2753                      592                 101            0.170608\n",
      "7       S. aureus              3418                      736                 150            0.203804\n",
      "8       S. aureus              3145                      683                 139            0.203514\n",
      "9   S. pneumoniae              2753                      592                  67            0.113176\n",
      "10  S. pneumoniae              3418                      736                  84             0.11413\n",
      "11  S. pneumoniae              3145                      683                  82            0.120059\n"
     ]
    }
   ],
   "source": [
    "# Raw data for mixed samples\n",
    "species = pd.Series([\"E. coli\", \"E. coli\", \"E. coli\", \n",
    "                     \"P. aeruginosa\", \"P. aeruginosa\", \"P. aeruginosa\", \n",
    "                     \"S. aureus\", \"S. aureus\", \"S. aureus\", \n",
    "                     \"S. pneumoniae\", \"S. pneumoniae\", \"S. pneumoniae\"],\n",
    "                   name=\"Species\")\n",
    "numspectra_mix = pd.Series([2753, 3418, 3145,\n",
    "                        2753, 3418, 3145,\n",
    "                        2753, 3418, 3145,\n",
    "                        2753, 3418, 3145],\n",
    "                       name=\"Number of spectra\")\n",
    "discriminative_fragments = pd.Series([592, 736, 683,\n",
    "                                      592, 736, 683,\n",
    "                                      592, 736, 683,\n",
    "                                      592, 736, 683],\n",
    "                                     name=\"Discriminative fragments\")\n",
    "species_assignments = pd.Series([61,  72,  63,\n",
    "                                 344, 403, 378, \n",
    "                                 101, 150, 139,\n",
    "                                 67,  84,  82], \n",
    "                                name=\"Species assignments\")\n",
    "estimated_abundance = pd.Series(species_assignments / discriminative_fragments, name=\"Estimated abundance\")\n",
    "mix_data = pd.DataFrame([species, numspectra_mix, discriminative_fragments, species_assignments, estimated_abundance]).transpose()\n",
    "print(mix_data)"
   ]
  },
  {
   "cell_type": "code",
   "execution_count": 32,
   "metadata": {
    "collapsed": false
   },
   "outputs": [
    {
     "name": "stdout",
     "output_type": "stream",
     "text": [
      "Means\n",
      "               Number of spectra  Discriminative fragments  Species assignments  Estimated abundance\n",
      "Species                                                                                             \n",
      "E. coli              3105.333333                670.333333            65.333333             0.097702\n",
      "P. aeruginosa        3105.333333                670.333333           375.000000             0.560692\n",
      "S. aureus            3105.333333                670.333333           130.000000             0.192642\n",
      "S. pneumoniae        3105.333333                670.333333            77.666667             0.115788\n",
      "Standard deviations\n",
      "               Number of spectra  Discriminative fragments  Species assignments  Estimated abundance\n",
      "Species                                                                                             \n",
      "E. coli               272.930191                 59.466143             4.784233             0.004410\n",
      "P. aeruginosa         272.930191                 59.466143            24.179881             0.014616\n",
      "S. aureus             272.930191                 59.466143            20.992062             0.015581\n",
      "S. pneumoniae         272.930191                 59.466143             7.586538             0.003045\n",
      "Overall average spectra: 3105.33333333\n",
      "Overall average discriminative: 670.333333333\n",
      "Overall maximum: 3418\n",
      "Overall minimum: 2753\n"
     ]
    }
   ],
   "source": [
    "print(\"Means\")\n",
    "print(mix_data.groupby(\"Species\").aggregate(lambda x: np.mean(x)))\n",
    "print(\"Standard deviations\")\n",
    "print(mix_data.groupby(\"Species\").aggregate(lambda x: np.std(x)))\n",
    "print(\"Overall average spectra:\", np.mean(mix_data[\"Number of spectra\"]))\n",
    "print(\"Overall average discriminative:\", np.mean(mix_data[\"Discriminative fragments\"]))\n",
    "print(\"Overall maximum:\", np.max(mix_data[\"Number of spectra\"]) )\n",
    "print(\"Overall minimum:\", np.min(mix_data[\"Number of spectra\"]))"
   ]
  },
  {
   "cell_type": "markdown",
   "metadata": {},
   "source": [
    "## Adjustment/normalization ratios\n",
    "The adjustment ratio used to modify the raw estimations of abundance are calculated from the TPR data of the pure bacterial cultures.  "
   ]
  },
  {
   "cell_type": "code",
   "execution_count": 33,
   "metadata": {
    "collapsed": false
   },
   "outputs": [
    {
     "name": "stdout",
     "output_type": "stream",
     "text": [
      "Normalization factors:\n",
      "S. aureus       0.179672014645859\n",
      "P. aeruginosa   0.4731727405728461\n",
      "E. coli         0.11094037294270091\n",
      "S. pneumoniae   0.07571936231444919\n",
      "Data table\n",
      "          Species Number of spectra Discriminative fragments Species assignments Estimated abundance  Corrected abundance\n",
      "0         E. coli              2753                      592                  61            0.103041             0.928792\n",
      "1         E. coli              3418                      736                  72           0.0978261             0.881790\n",
      "2         E. coli              3145                      683                  63           0.0922401             0.831439\n",
      "3   P. aeruginosa              2753                      592                 344            0.581081             1.228053\n",
      "4   P. aeruginosa              3418                      736                 403            0.547554             1.157198\n",
      "5   P. aeruginosa              3145                      683                 378            0.553441             1.169638\n",
      "6       S. aureus              2753                      592                 101            0.170608             0.949553\n",
      "7       S. aureus              3418                      736                 150            0.203804             1.134313\n",
      "8       S. aureus              3145                      683                 139            0.203514             1.132697\n",
      "9   S. pneumoniae              2753                      592                  67            0.113176             1.494673\n",
      "10  S. pneumoniae              3418                      736                  84             0.11413             1.507282\n",
      "11  S. pneumoniae              3145                      683                  82            0.120059             1.585573\n"
     ]
    }
   ],
   "source": [
    "# Compute adjustment ratios based on data from pure samples\n",
    "adjustment_ratios = {}\n",
    "for name, group in raw_data.groupby(\"Species\"):\n",
    "    adjustment_ratios[name] = np.mean(group[\"Correct assignments\"] / group[\"Number of spectra\"])\n",
    "\n",
    "# Add a column with corrected values for estimated abundance\n",
    "adjusted_abundance = pd.Series(index=mix_data.index)\n",
    "for row in mix_data.iterrows():\n",
    "    adjusted_abundance[row[0]] = row[1][\"Estimated abundance\"] / adjustment_ratios[row[1][\"Species\"]]\n",
    "mix_data.loc[:,'Corrected abundance'] = adjusted_abundance\n",
    "\n",
    "print(\"Normalization factors:\")\n",
    "for species, ratio in adjustment_ratios.items():\n",
    "    print(\"{:<15} {}\".format(species, ratio))\n",
    "print(\"Data table\")\n",
    "\n",
    "print(mix_data)"
   ]
  },
  {
   "cell_type": "markdown",
   "metadata": {},
   "source": [
    "## Plot mixture and adjusted mixture results\n",
    "The per species results from the mixed samples are plotted in a bar plot with standard error bars. The adjusted values are plotted alongside the raw per species TPR from the mixed samples to illustrate how adjusting the values improve the results. "
   ]
  },
  {
   "cell_type": "code",
   "execution_count": 34,
   "metadata": {
    "collapsed": false
   },
   "outputs": [
    {
     "name": "stdout",
     "output_type": "stream",
     "text": [
      "Mixed samples without correction\n",
      "               <lambda>       sem\n",
      "Species                          \n",
      "E. coli        0.097702  0.003118\n",
      "P. aeruginosa  0.560692  0.010335\n",
      "S. aureus      0.192642  0.011017\n",
      "S. pneumoniae  0.115788  0.002153\n",
      "Mixed samples with correction\n",
      "               <lambda>       sem\n",
      "Species                          \n",
      "E. coli        0.880674  0.028109\n",
      "P. aeruginosa  1.184963  0.021842\n",
      "S. aureus      1.072188  0.061319\n",
      "S. pneumoniae  1.529176  0.028432\n",
      "\n",
      "Normalized mixed samples with correction\n",
      "Species        Abundance      SEM\n",
      "E. coli        0.188702  0.006023\n",
      "P. aeruginosa  0.253902  0.004680\n",
      "S. aureus      0.229738  0.013139\n",
      "S. pneumoniae  0.327657  0.006092\n"
     ]
    }
   ],
   "source": [
    "# Reduce estimated abundances for the mixed samples for use in bar plot\n",
    "mix_means_sems = mix_data.groupby(\"Species\")[\"Estimated abundance\"].aggregate([lambda x: np.mean(x), sem])\n",
    "print(\"Mixed samples without correction\")\n",
    "print(mix_means_sems)\n",
    "mix_names = mix_means_sems.index\n",
    "mix_means = mix_means_sems[\"<lambda>\"]\n",
    "mix_sems = mix_means_sems[\"sem\"]\n",
    "\n",
    "# Reduce corrected abundance estimates for use in bar plot\n",
    "mix_means_sems_corrected = mix_data.groupby(\"Species\")[\"Corrected abundance\"].aggregate([lambda x: np.mean(x), sem])\n",
    "print(\"Mixed samples with correction\")\n",
    "print(mix_means_sems_corrected)\n",
    "mix_means_corrected = mix_means_sems_corrected[\"<lambda>\"]\n",
    "mix_sems_corrected = mix_means_sems_corrected[\"sem\"]\n",
    "\n",
    "# Normalize the corrected abundance estimates for the mixed samples\n",
    "mix_means_corrected_normalized = mix_means_corrected / sum(mix_means_corrected)\n",
    "mix_sems_corrected_normalized = mix_sems_corrected / sum(mix_means_corrected) \n",
    "print(\"\\nNormalized mixed samples with correction\")\n",
    "print(\"{:<14} {:>8} {:>8}\".format(\"Species\", \"Abundance\", \"SEM\"))\n",
    "for species, v1, v2 in zip(mix_names, mix_means_corrected_normalized, mix_sems_corrected_normalized):\n",
    "    print(\"{:<14} {:<1.6f}  {:<1.6f}\".format(species, v1, v2))"
   ]
  },
  {
   "cell_type": "code",
   "execution_count": 35,
   "metadata": {
    "collapsed": false
   },
   "outputs": [
    {
     "data": {
      "image/png": "[encoded data removed]",
      "text/plain": [
       "<matplotlib.figure.Figure at 0xf827db00f0>"
      ]
     },
     "metadata": {},
     "output_type": "display_data"
    }
   ],
   "source": [
    "# Adjust bar plot settings\n",
    "font = {\"family\": \"sans\",\n",
    "        \"weight\": \"normal\",\n",
    "        \"size\": 12}\n",
    "mpl.rc(\"font\", **font)\n",
    "indices = np.arange(0, len(mix_names))\n",
    "width = 0.45\n",
    "\n",
    "# Create plot figure with two subplots axes\n",
    "fig_mix, (ax_mix1, ax_mix2) = plt.subplots(1, 2) #, sharey=True)\n",
    "\n",
    "# First plot with raw unmodified abundance estimations\n",
    "rects_mix1 = ax_mix1.bar(indices, \n",
    "                         mix_means, \n",
    "                         width, \n",
    "                         color=\"steelblue\", \n",
    "                         yerr=mix_sems, \n",
    "                         error_kw=dict(ecolor=\"black\"))\n",
    "ax_mix1.spines[\"top\"].set_color(\"none\")\n",
    "ax_mix1.spines[\"right\"].set_color(\"none\")\n",
    "ax_mix1.xaxis.set_ticks_position(\"none\")\n",
    "ax_mix1.yaxis.set_ticks_position(\"left\")\n",
    "# Adjust plot area, set tick labels\n",
    "ax_mix1.set_xlim([-width/2, len(mix_names)-width/2])\n",
    "ax_mix1.set_ylim([0, 0.6])\n",
    "ax_mix1.set_xlabel(\"Species\")\n",
    "ax_mix1.set_ylabel(\"Estimated abundance\")\n",
    "ax_mix1.set_title(\"Estimated abundance (unmodified)\")\n",
    "ax_mix1.set_xticks(indices + width/2)\n",
    "ax_mix1.set_xticklabels(mix_names, style=\"italic\")\n",
    "ax_mix1.set_yticks(np.arange(0, 0.61, 0.05))\n",
    "# Place expected ratio line\n",
    "ax_mix1.plot([-.5,4], [0.25,0.25], color=\"r\")\n",
    "\n",
    "# Second plot with corrected and normalized estimated abundances\n",
    "rects_mix2 = ax_mix2.bar(indices, \n",
    "                         mix_means_corrected_normalized, \n",
    "                         width, \n",
    "                         color=\"steelblue\", \n",
    "                         yerr=mix_sems_corrected_normalized,  \n",
    "                         error_kw=dict(ecolor=\"black\"))\n",
    "ax_mix2.spines[\"top\"].set_color(\"none\")\n",
    "ax_mix2.spines[\"right\"].set_color(\"none\")\n",
    "ax_mix2.xaxis.set_ticks_position(\"none\")\n",
    "ax_mix2.yaxis.set_ticks_position(\"left\")\n",
    "# Adjust plot area, set tick labels\n",
    "ax_mix2.set_xlim([-width/2, len(mix_names)-width/2])\n",
    "ax_mix2.set_ylim([0, 0.6])\n",
    "ax_mix2.set_xlabel(\"Species\")\n",
    "ax_mix2.set_ylabel(\"Estimated abundance\")\n",
    "ax_mix2.set_title(\"Estimated abundance (normalized)\")\n",
    "ax_mix2.set_xticks(indices + width/2)\n",
    "ax_mix2.set_xticklabels(mix_names, style=\"italic\")\n",
    "ax_mix2.set_yticks(np.arange(0, 0.61, 0.05))\n",
    "# Place expected ratio line\n",
    "ax_mix2.plot([-.5,4], [0.25,0.25], color=\"r\")\n",
    "\n",
    "# Adjust figure size, save figures\n",
    "fig_mix.set_figheight(7)\n",
    "fig_mix.set_figwidth(14)\n",
    "plt.savefig(\"real_cultures_mix_tpr.png\")\n",
    "plt.savefig(\"real_cultures_mix_tpr.pdf\")"
   ]
  },
  {
   "cell_type": "markdown",
   "metadata": {},
   "source": [
    "# Supplementary figure normalized with in-silico results\n",
    "Instead of normalizing with results from pure cultures, normalization factors can be determined from in silico results."
   ]
  },
  {
   "cell_type": "code",
   "execution_count": 36,
   "metadata": {
    "collapsed": false
   },
   "outputs": [
    {
     "name": "stdout",
     "output_type": "stream",
     "text": [
      "Mixed samples with correction\n",
      "               <lambda>       sem\n",
      "Species                          \n",
      "E. coli        0.361325  0.011533\n",
      "P. aeruginosa  1.006448  0.018552\n",
      "S. aureus      0.368552  0.021078\n",
      "S. pneumoniae  0.647585  0.012041\n",
      "\n",
      "Normalized mixed samples with in silico correction\n",
      "Species        Abundance      SEM\n",
      "E. coli        0.151568  0.004838\n",
      "P. aeruginosa  0.422184  0.007782\n",
      "S. aureus      0.154600  0.008842\n",
      "S. pneumoniae  0.271648  0.005051\n"
     ]
    }
   ],
   "source": [
    "# Add a column with in-silico-corrected values for estimated abundance\n",
    "insilico_abundance = pd.Series(index=mix_data.index)\n",
    "insilico_adjustment_ratios = {\"E. coli\": 0.2704, \n",
    "                              \"P. aeruginosa\": 0.5571, \n",
    "                              \"S. aureus\":  0.5227, \n",
    "                              \"S. pneumoniae\": 0.1788}\n",
    "for row in mix_data.iterrows():\n",
    "    insilico_abundance[row[0]] = row[1][\"Estimated abundance\"] / insilico_adjustment_ratios[row[1][\"Species\"]]\n",
    "mix_data.loc[:,'Insilico corrected abundance'] = insilico_abundance\n",
    "\n",
    "\n",
    "# Reduce corrected abundance estimates for use in bar plot\n",
    "mix_means_sems_corrected_insilico = mix_data.groupby(\"Species\")[\"Insilico corrected abundance\"].aggregate([lambda x: np.mean(x), sem])\n",
    "print(\"Mixed samples with correction\")\n",
    "print(mix_means_sems_corrected_insilico)\n",
    "mix_means_corrected_insilico = mix_means_sems_corrected_insilico[\"<lambda>\"]\n",
    "mix_sems_corrected_insilico = mix_means_sems_corrected_insilico[\"sem\"]\n",
    "\n",
    "# Normalize the corrected abundance estimates for the mixed samples\n",
    "mix_means_corrected_normalized_insilico = mix_means_corrected_insilico / sum(mix_means_corrected_insilico)\n",
    "mix_sems_corrected_normalized_insilico = mix_sems_corrected_insilico / sum(mix_means_corrected_insilico) \n",
    "print(\"\\nNormalized mixed samples with in silico correction\")\n",
    "print(\"{:<14} {:>8} {:>8}\".format(\"Species\", \"Abundance\", \"SEM\"))\n",
    "for species, v1, v2 in zip(mix_names, mix_means_corrected_normalized_insilico, mix_sems_corrected_normalized_insilico):\n",
    "    print(\"{:<14} {:<1.6f}  {:<1.6f}\".format(species, v1, v2))"
   ]
  },
  {
   "cell_type": "code",
   "execution_count": 37,
   "metadata": {
    "collapsed": false
   },
   "outputs": [
    {
     "data": {
      "image/png": "[encoded data removed]",
      "text/plain": [
       "<matplotlib.figure.Figure at 0xf82804ff28>"
      ]
     },
     "metadata": {},
     "output_type": "display_data"
    }
   ],
   "source": [
    "# Adjust bar plot settings\n",
    "font = {\"family\": \"sans\",\n",
    "        \"weight\": \"normal\",\n",
    "        \"size\": 12}\n",
    "mpl.rc(\"font\", **font)\n",
    "indices = np.arange(0, len(mix_names))\n",
    "width = 0.45\n",
    "\n",
    "# Create plot figure with three  subplots axes\n",
    "fig_mix, (ax_mix1, ax_mix2, ax_mix3) = plt.subplots(1, 3) #, sharey=True)\n",
    "\n",
    "# First plot with raw unmodified abundance estimations\n",
    "rects_mix1 = ax_mix1.bar(indices, \n",
    "                         mix_means, \n",
    "                         width, \n",
    "                         color=\"steelblue\", \n",
    "                         yerr=mix_sems, \n",
    "                         error_kw=dict(ecolor=\"black\"))\n",
    "ax_mix1.spines[\"top\"].set_color(\"none\")\n",
    "ax_mix1.spines[\"right\"].set_color(\"none\")\n",
    "ax_mix1.xaxis.set_ticks_position(\"none\")\n",
    "ax_mix1.yaxis.set_ticks_position(\"left\")\n",
    "# Adjust plot area, set tick labels\n",
    "ax_mix1.set_xlim([-width/2, len(mix_names)-width/2])\n",
    "ax_mix1.set_ylim([0, 0.6])\n",
    "ax_mix1.set_xlabel(\"Species\")\n",
    "ax_mix1.set_ylabel(\"Estimated abundance\")\n",
    "ax_mix1.set_title(\"Estimated abundance (unnormalized)\")\n",
    "ax_mix1.set_xticks(indices + width/2)\n",
    "ax_mix1.set_xticklabels(mix_names, style=\"italic\")\n",
    "ax_mix1.set_yticks(np.arange(0, 0.61, 0.05))\n",
    "# Place expected ratio line\n",
    "ax_mix1.plot([-.5,4], [0.25,0.25], color=\"r\")\n",
    "\n",
    "# Second plot with corrected and normalized estimated abundances\n",
    "rects_mix2 = ax_mix2.bar(indices, \n",
    "                         mix_means_corrected_normalized, \n",
    "                         width, \n",
    "                         color=\"steelblue\", \n",
    "                         yerr=mix_sems_corrected_normalized,  \n",
    "                         error_kw=dict(ecolor=\"black\"))\n",
    "ax_mix2.spines[\"top\"].set_color(\"none\")\n",
    "ax_mix2.spines[\"right\"].set_color(\"none\")\n",
    "ax_mix2.xaxis.set_ticks_position(\"none\")\n",
    "ax_mix2.yaxis.set_ticks_position(\"left\")\n",
    "# Adjust plot area, set tick labels\n",
    "ax_mix2.set_xlim([-width/2, len(mix_names)-width/2])\n",
    "ax_mix2.set_ylim([0, 0.6])\n",
    "ax_mix2.set_xlabel(\"Species\")\n",
    "ax_mix2.set_ylabel(\"Estimated abundance\")\n",
    "ax_mix2.set_title(\"Estimated abundance (normalized)\")\n",
    "ax_mix2.set_xticks(indices + width/2)\n",
    "ax_mix2.set_xticklabels(mix_names, style=\"italic\")\n",
    "ax_mix2.set_yticks(np.arange(0, 0.61, 0.05))\n",
    "# Place expected ratio line\n",
    "ax_mix2.plot([-.5,4], [0.25,0.25], color=\"r\")\n",
    "\n",
    "# Third plot with in silico corrected and normalized estimated abundances\n",
    "rects_mix3 = ax_mix3.bar(indices, \n",
    "                         mix_means_corrected_normalized_insilico, \n",
    "                         width, \n",
    "                         color=\"steelblue\", \n",
    "                         yerr=mix_sems_corrected_normalized_insilico,  \n",
    "                         error_kw=dict(ecolor=\"black\"))\n",
    "ax_mix3.spines[\"top\"].set_color(\"none\")\n",
    "ax_mix3.spines[\"right\"].set_color(\"none\")\n",
    "ax_mix3.xaxis.set_ticks_position(\"none\")\n",
    "ax_mix3.yaxis.set_ticks_position(\"left\")\n",
    "# Adjust plot area, set tick labels\n",
    "ax_mix3.set_xlim([-width/2, len(mix_names)-width/2])\n",
    "ax_mix3.set_ylim([0, 0.6])\n",
    "ax_mix3.set_xlabel(\"Species\")\n",
    "ax_mix3.set_ylabel(\"Estimated abundance\")\n",
    "ax_mix3.set_title(\"Estimated abundance (in silico normalized)\")\n",
    "ax_mix3.set_xticks(indices + width/2)\n",
    "ax_mix3.set_xticklabels(mix_names, style=\"italic\")\n",
    "ax_mix3.set_yticks(np.arange(0, 0.61, 0.05))\n",
    "# Place expected ratio line\n",
    "ax_mix3.plot([-.5,4], [0.25,0.25], color=\"r\")\n",
    "\n",
    "# Adjust figure size, save figures\n",
    "fig_mix.set_figheight(7)\n",
    "fig_mix.set_figwidth(21)\n",
    "plt.savefig(\"real_cultures_mix_tpr_insilico.png\")\n",
    "plt.savefig(\"real_cultures_mix_tpr_insilico.pdf\")"
   ]
  },
  {
   "cell_type": "code",
   "execution_count": 38,
   "metadata": {
    "collapsed": false
   },
   "outputs": [
    {
     "name": "stdout",
     "output_type": "stream",
     "text": [
      "          Species Estimated abundance  Corrected abundance  Insilico corrected abundance\n",
      "0         E. coli            0.103041             0.928792                      0.381067\n",
      "1         E. coli           0.0978261             0.881790                      0.361783\n",
      "2         E. coli           0.0922401             0.831439                      0.341125\n",
      "3   P. aeruginosa            0.581081             1.228053                      1.043046\n",
      "4   P. aeruginosa            0.547554             1.157198                      0.982865\n",
      "5   P. aeruginosa            0.553441             1.169638                      0.993432\n",
      "6       S. aureus            0.170608             0.949553                      0.326398\n",
      "7       S. aureus            0.203804             1.134313                      0.389907\n",
      "8       S. aureus            0.203514             1.132697                      0.389351\n",
      "9   S. pneumoniae            0.113176             1.494673                      0.632974\n",
      "10  S. pneumoniae             0.11413             1.507282                      0.638313\n",
      "11  S. pneumoniae            0.120059             1.585573                      0.671468\n"
     ]
    }
   ],
   "source": [
    "# Print a table of all the relevant abundances, raw, and normalized, and in silico corrected and normalized\n",
    "print(mix_data[[\"Species\", \"Estimated abundance\", \"Corrected abundance\", \"Insilico corrected abundance\"]])"
   ]
  },
  {
   "cell_type": "code",
   "execution_count": null,
   "metadata": {
    "collapsed": true
   },
   "outputs": [],
   "source": []
  }
 ],
 "metadata": {
  "kernelspec": {
   "display_name": "Python 3",
   "language": "python",
   "name": "python3"
  },
  "language_info": {
   "codemirror_mode": {
    "name": "ipython",
    "version": 3
   },
   "file_extension": ".py",
   "mimetype": "text/x-python",
   "name": "python",
   "nbconvert_exporter": "python",
   "pygments_lexer": "ipython3",
   "version": "3.5.1"
  }
 },
 "nbformat": 4,
 "nbformat_minor": 0
}
