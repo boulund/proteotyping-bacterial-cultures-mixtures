{
 "cells": [
  {
   "cell_type": "markdown",
   "metadata": {
    "collapsed": true
   },
   "source": [
    "# Proteotyping of pure bacterial cultures\n",
    "Pure cultures of four species of bacteria: *Escherichia coli*, *Pseudomonas aeruginosa*, *Staphyoloccus aureus*, *Streptococcus pneumoniae*. Each species was cultured in three identical replicates and run through the following workflow steps:\n",
    "\n",
    " 1. Cell culture\n",
    " 2. Proteomics prep\n",
    " 3. Tandem MS\n",
    " 4. ReAdW raw to mzXML conversion\n",
    " 5. X!Tandem peptide search\n",
    " 6. BLAT alignments of peptides to translated genome sequences\n",
    " 7. TCUP\n",
    " \n",
    "Detailed descriptions of all steps are presented in our paper:\n",
    "\n",
    "    TCUP: Typing and characterization of bacteria using bottom-up tandem mass spectrometry\n",
    "    Boulund, et al. (in preparation)\n",
    "\n",
    "The following samples were used:\n",
    "\n",
    "    QE_150508_32\t \tS. pneumoniae\n",
    "    QE_150508_35\t \tS. pneumoniae\n",
    "    QE_150508_38\t \tS. pneumoniae\n",
    "    QE_150611_128\t\tS. aureus\n",
    "    QE_150611_131\t\tS. aureus\n",
    "    QE_150611_137\t\tS. aureus\n",
    "    QE_150611_140\t\tE. coli\n",
    "    QE_150611_143\t\tE. coli\n",
    "    QE_150611_146\t\tE. coli\n",
    "    QE_150611_152\t\tP. aeruginosa\n",
    "    QE_150611_155\t\tP. aeruginosa\n",
    "    QE_150611_158\t\tP. aeruginosa\n",
    "    QE_150611_161\t\tP. aeruginosa, E. coli, S. aureus, S. pneumoniae, 1:1:1:1 mixture\n",
    "    QE_150611_164\t\tP. aeruginosa, E. coli, S. aureus, S. pneumoniae, 1:1:1:1 mixture\n",
    "    QE_150611_169\t\tP. aeruginosa, E. coli, S. aureus, S. pneumoniae, 1:1:1:1 mixture"
   ]
  },
  {
   "cell_type": "code",
   "execution_count": 1,
   "metadata": {
    "collapsed": false
   },
   "outputs": [],
   "source": [
    "# Import all required libraries\n",
    "import matplotlib as mpl, matplotlib\n",
    "matplotlib.use(\"Agg\")\n",
    "%matplotlib inline\n",
    "from pylab import *\n",
    "import numpy as np\n",
    "import pandas as pd\n",
    "from scipy.stats import sem\n",
    "from os import listdir, path\n",
    "\n",
    "pd.set_option('display.max_columns', 500)\n",
    "pd.set_option('display.width', 1000)"
   ]
  },
  {
   "cell_type": "markdown",
   "metadata": {},
   "source": [
    "# Pure bacterial cultures\n",
    "Data from the analysis of bacterial cultures were manually entered into the next cell of the notebook.\n",
    "The data are from the following runs:\n",
    "\n",
    "    QE_150508_{32,35,38}     S. pneumoniae\n",
    "    QE_150611_{128,131,137}  S. aureus\n",
    "    QE_150611_{140,143,146}  E. coli\n",
    "    QE_150611_{152,155,158}  P. aeruginosa"
   ]
  },
  {
   "cell_type": "code",
   "execution_count": 2,
   "metadata": {
    "collapsed": false
   },
   "outputs": [
    {
     "name": "stdout",
     "output_type": "stream",
     "text": [
      "          Species Number of spectra Discriminative peptides Correct assignments True positive rate (TPR)\n",
      "0         E. coli              3251                     380                 343                 0.902632\n",
      "1         E. coli              4515                     487                 435                 0.893224\n",
      "2         E. coli              4630                     506                 462                 0.913043\n",
      "3   P. aeruginosa              4206                    1894                1866                 0.985216\n",
      "4   P. aeruginosa              2826                    1255                1235                 0.984064\n",
      "5   P. aeruginosa              4861                    2143                2114                 0.986468\n",
      "6       S. aureus              3801                     868                 846                 0.974654\n",
      "7       S. aureus              3343                     728                 708                 0.972527\n",
      "8       S. aureus              3977                     908                 890                 0.980176\n",
      "9   S. pneumoniae              5265                     598                 548                 0.916388\n",
      "10  S. pneumoniae              5105                     551                 502                 0.911071\n",
      "11  S. pneumoniae              4760                     523                 461                 0.881453\n"
     ]
    }
   ],
   "source": [
    "species = pd.Series([\"E. coli\", \"E. coli\", \"E. coli\", \n",
    "                     \"P. aeruginosa\", \"P. aeruginosa\", \"P. aeruginosa\", \n",
    "                     \"S. aureus\", \"S. aureus\", \"S. aureus\", \n",
    "                     \"S. pneumoniae\", \"S. pneumoniae\", \"S. pneumoniae\"],\n",
    "                   name=\"Species\")\n",
    "numspectra = pd.Series([3251, 4515, 4630,\n",
    "                        4206, 2826, 4861,\n",
    "                        3801, 3343, 3977, \n",
    "                        5265, 5105, 4760], \n",
    "                       name=\"Number of spectra\")\n",
    "discriminative_peptides = pd.Series([380, 487, 506,\n",
    "                                     1894, 1255, 2143,\n",
    "                                     868, 728, 908,\n",
    "                                     598, 551, 523], \n",
    "                                     name=\"Discriminative peptides\")\n",
    "correct_assignments = pd.Series([343, 435, 462,\n",
    "                                 1866, 1235, 2114, \n",
    "                                 846, 708, 890,\n",
    "                                 548, 502, 461], \n",
    "                                name=\"Correct assignments\")\n",
    "TPR = pd.Series(correct_assignments / discriminative_peptides, name=\"True positive rate (TPR)\")\n",
    "raw_data = pd.DataFrame([species, numspectra, discriminative_peptides, correct_assignments, TPR]).transpose()\n",
    "print(raw_data)"
   ]
  },
  {
   "cell_type": "code",
   "execution_count": 3,
   "metadata": {
    "collapsed": false
   },
   "outputs": [
    {
     "name": "stdout",
     "output_type": "stream",
     "text": [
      "Means\n",
      "               Number of spectra  Discriminative peptides  Correct assignments  True positive rate (TPR)\n",
      "Species                                                                                                 \n",
      "E. coli              4132.000000               457.666667           413.333333                  0.902966\n",
      "P. aeruginosa        3964.333333              1764.000000          1738.333333                  0.985249\n",
      "S. aureus            3707.000000               834.666667           814.666667                  0.975786\n",
      "S. pneumoniae        5043.333333               557.333333           503.666667                  0.902971\n",
      "Standard deviations\n",
      "               Number of spectra  Discriminative peptides  Correct assignments  True positive rate (TPR)\n",
      "Species                                                                                                 \n",
      "E. coli               624.727674                55.463702            50.940052                  0.008095\n",
      "P. aeruginosa         848.177785               373.997326           370.030930                  0.000982\n",
      "S. aureus             267.227743                77.172246            77.534222                  0.003223\n",
      "S. pneumoniae         210.726257                30.944395            35.537148                  0.015369\n",
      "Overall maximum: 5265\n",
      "Overall minimum: 2826\n"
     ]
    }
   ],
   "source": [
    "print(\"Means\")\n",
    "print(raw_data.groupby(\"Species\").aggregate(lambda x: np.mean(x)))\n",
    "print(\"Standard deviations\")\n",
    "print(raw_data.groupby(\"Species\").aggregate(lambda x: np.std(x)))\n",
    "print(\"Overall maximum:\", np.max(raw_data[\"Number of spectra\"]))\n",
    "print(\"Overall minimum:\", np.min(raw_data[\"Number of spectra\"]))"
   ]
  },
  {
   "cell_type": "markdown",
   "metadata": {},
   "source": [
    "## Pure bacterial samples barchart\n",
    "Plot a barchart of the average sensitivity for each species, along with standard error bars (SEM) to indicate the variability of the results."
   ]
  },
  {
   "cell_type": "code",
   "execution_count": 4,
   "metadata": {
    "collapsed": false
   },
   "outputs": [
    {
     "name": "stdout",
     "output_type": "stream",
     "text": [
      "               <lambda>       sem\n",
      "Species                          \n",
      "E. coli        0.902966  0.005724\n",
      "P. aeruginosa  0.985249  0.000694\n",
      "S. aureus      0.975786  0.002279\n",
      "S. pneumoniae  0.902971  0.010868\n"
     ]
    }
   ],
   "source": [
    "means_sems = raw_data.groupby(\"Species\")[\"True positive rate (TPR)\"].aggregate([lambda x: np.mean(x), sem])\n",
    "print(means_sems)\n",
    "names = means_sems.index\n",
    "means = means_sems[\"<lambda>\"]\n",
    "sems = means_sems[\"sem\"]"
   ]
  },
  {
   "cell_type": "code",
   "execution_count": 5,
   "metadata": {
    "collapsed": false
   },
   "outputs": [
    {
     "data": {
      "image/png": "[encoded data removed]",
      "text/plain": [
       "<matplotlib.figure.Figure at 0x6938adccc0>"
      ]
     },
     "metadata": {},
     "output_type": "display_data"
    }
   ],
   "source": [
    "font = {\"family\": \"sans\",\n",
    "        \"weight\": \"normal\",\n",
    "        \"size\": 14}\n",
    "mpl.rc(\"font\", **font)\n",
    "\n",
    "indices = np.arange(0, len(means_sems))\n",
    "width = 0.45\n",
    "\n",
    "fig, ax = plt.subplots()\n",
    "rects = ax.bar(indices, means, width, yerr=sems, color=\"steelblue\", error_kw=dict(ecolor=\"black\"))\n",
    "ax.spines[\"top\"].set_color(\"none\")\n",
    "ax.spines[\"right\"].set_color(\"none\")\n",
    "ax.xaxis.set_ticks_position(\"none\")\n",
    "ax.yaxis.set_ticks_position(\"left\")\n",
    "\n",
    "# Adjust plot area, set tick labels\n",
    "ylim([0.85, 1])\n",
    "xlim([-width/2, len(names)-width/2])\n",
    "xlabel(\"Species\")\n",
    "ylabel(\"True positive rate (TPR)\")\n",
    "ax.set_xticks(indices + width/2)\n",
    "ax.set_xticklabels(names, style=\"italic\")\n",
    "\n",
    "# Adjust figure size, save figures\n",
    "fig.set_figheight(10)\n",
    "fig.set_figwidth(10)\n",
    "plt.savefig(\"real_cultures_tpr.png\")\n",
    "plt.savefig(\"real_cultures_tpr.pdf\")"
   ]
  },
  {
   "cell_type": "markdown",
   "metadata": {
    "collapsed": true
   },
   "source": [
    "# Mixed bacterial cultures\n",
    "Mixed samples with equal ratio of all four species (1:1:1:1), the data are from the following runs:\n",
    "\n",
    "    QE_150611_161\n",
    "    QE_150611_164\n",
    "    QE_150611_169"
   ]
  },
  {
   "cell_type": "code",
   "execution_count": 6,
   "metadata": {
    "collapsed": false
   },
   "outputs": [
    {
     "name": "stdout",
     "output_type": "stream",
     "text": [
      "          Species Number of spectra Discriminative fragments Species assignments Estimated abundance\n",
      "0         E. coli              3909                      742                  78            0.105121\n",
      "1         E. coli              4585                      882                  81           0.0918367\n",
      "2         E. coli              4206                      882                  85           0.0963719\n",
      "3   P. aeruginosa              3909                      742                 420            0.566038\n",
      "4   P. aeruginosa              4585                      882                 487            0.552154\n",
      "5   P. aeruginosa              4206                      882                 472            0.535147\n",
      "6       S. aureus              3909                      742                 122             0.16442\n",
      "7       S. aureus              4585                      882                 175            0.198413\n",
      "8       S. aureus              4206                      882                 178            0.201814\n",
      "9   S. pneumoniae              3909                      742                  94            0.126685\n",
      "10  S. pneumoniae              4585                      882                 108            0.122449\n",
      "11  S. pneumoniae              4206                      882                 114            0.129252\n"
     ]
    }
   ],
   "source": [
    "# Raw data for mixed samples\n",
    "species = pd.Series([\"E. coli\", \"E. coli\", \"E. coli\", \n",
    "                     \"P. aeruginosa\", \"P. aeruginosa\", \"P. aeruginosa\", \n",
    "                     \"S. aureus\", \"S. aureus\", \"S. aureus\", \n",
    "                     \"S. pneumoniae\", \"S. pneumoniae\", \"S. pneumoniae\"],\n",
    "                   name=\"Species\")\n",
    "numspectra_mix = pd.Series([3909, 4585, 4206,\n",
    "                        3909, 4585, 4206,\n",
    "                        3909, 4585, 4206,\n",
    "                        3909, 4585, 4206],\n",
    "                       name=\"Number of spectra\")\n",
    "discriminative_fragments = pd.Series([742, 882, 882,\n",
    "                                      742, 882, 882,\n",
    "                                      742, 882, 882,\n",
    "                                      742, 882, 882],\n",
    "                                     name=\"Discriminative fragments\")\n",
    "species_assignments = pd.Series([78,  81,  85,\n",
    "                                 420, 487, 472, \n",
    "                                 122, 175, 178,\n",
    "                                 94,  108,  114], \n",
    "                                name=\"Species assignments\")\n",
    "estimated_abundance = pd.Series(species_assignments / discriminative_fragments, name=\"Estimated abundance\")\n",
    "mix_data = pd.DataFrame([species, numspectra_mix, discriminative_fragments, species_assignments, estimated_abundance]).transpose()\n",
    "print(mix_data)"
   ]
  },
  {
   "cell_type": "code",
   "execution_count": 7,
   "metadata": {
    "collapsed": false
   },
   "outputs": [
    {
     "name": "stdout",
     "output_type": "stream",
     "text": [
      "Means\n",
      "               Number of spectra  Discriminative fragments  Species assignments  Estimated abundance\n",
      "Species                                                                                             \n",
      "E. coli              4233.333333                835.333333            81.333333             0.097777\n",
      "P. aeruginosa        4233.333333                835.333333           459.666667             0.551113\n",
      "S. aureus            4233.333333                835.333333           158.333333             0.188216\n",
      "S. pneumoniae        4233.333333                835.333333           105.333333             0.126128\n",
      "Standard deviations\n",
      "               Number of spectra  Discriminative fragments  Species assignments  Estimated abundance\n",
      "Species                                                                                             \n",
      "E. coli               276.651807                 65.996633             2.867442             0.005514\n",
      "P. aeruginosa         276.651807                 65.996633            28.709271             0.012632\n",
      "S. aureus             276.651807                 65.996633            25.720722             0.016883\n",
      "S. pneumoniae         276.651807                 65.996633             8.379870             0.002805\n",
      "Overall average spectra: 4233.33333333\n",
      "Overall average discriminative: 835.333333333\n",
      "Overall maximum: 4585\n",
      "Overall minimum: 3909\n"
     ]
    }
   ],
   "source": [
    "print(\"Means\")\n",
    "print(mix_data.groupby(\"Species\").aggregate(lambda x: np.mean(x)))\n",
    "print(\"Standard deviations\")\n",
    "print(mix_data.groupby(\"Species\").aggregate(lambda x: np.std(x)))\n",
    "print(\"Overall average spectra:\", np.mean(mix_data[\"Number of spectra\"]))\n",
    "print(\"Overall average discriminative:\", np.mean(mix_data[\"Discriminative fragments\"]))\n",
    "print(\"Overall maximum:\", np.max(mix_data[\"Number of spectra\"]) )\n",
    "print(\"Overall minimum:\", np.min(mix_data[\"Number of spectra\"]))"
   ]
  },
  {
   "cell_type": "markdown",
   "metadata": {},
   "source": [
    "## Adjustment/normalization ratios\n",
    "The adjustment ratio used to modify the raw estimations of abundance are calculated from the TPR data of the pure bacterial cultures.  "
   ]
  },
  {
   "cell_type": "code",
   "execution_count": 8,
   "metadata": {
    "collapsed": false
   },
   "outputs": [
    {
     "name": "stdout",
     "output_type": "stream",
     "text": [
      "Normalization factors:\n",
      "S. aureus       0.21938186739078772\n",
      "S. pneumoniae   0.09975575865530606\n",
      "P. aeruginosa   0.43851843757644565\n",
      "E. coli         0.1005451767943993\n",
      "Data table\n",
      "          Species Number of spectra Discriminative fragments Species assignments Estimated abundance  Corrected abundance\n",
      "0         E. coli              3909                      742                  78            0.105121             1.045513\n",
      "1         E. coli              4585                      882                  81           0.0918367             0.913388\n",
      "2         E. coli              4206                      882                  85           0.0963719             0.958493\n",
      "3   P. aeruginosa              3909                      742                 420            0.566038             1.290796\n",
      "4   P. aeruginosa              4585                      882                 487            0.552154             1.259136\n",
      "5   P. aeruginosa              4206                      882                 472            0.535147             1.220353\n",
      "6       S. aureus              3909                      742                 122             0.16442             0.749472\n",
      "7       S. aureus              4585                      882                 175            0.198413             0.904417\n",
      "8       S. aureus              4206                      882                 178            0.201814             0.919921\n",
      "9   S. pneumoniae              3909                      742                  94            0.126685             1.269948\n",
      "10  S. pneumoniae              4585                      882                 108            0.122449             1.227488\n",
      "11  S. pneumoniae              4206                      882                 114            0.129252             1.295682\n"
     ]
    }
   ],
   "source": [
    "# Compute adjustment ratios based on data from pure samples\n",
    "adjustment_ratios = {}\n",
    "for name, group in raw_data.groupby(\"Species\"):\n",
    "    adjustment_ratios[name] = np.mean(group[\"Correct assignments\"] / group[\"Number of spectra\"])\n",
    "\n",
    "# Add a column with corrected values for estimated abundance\n",
    "adjusted_abundance = pd.Series(index=mix_data.index)\n",
    "for row in mix_data.iterrows():\n",
    "    adjusted_abundance[row[0]] = row[1][\"Estimated abundance\"] / adjustment_ratios[row[1][\"Species\"]]\n",
    "mix_data.loc[:,'Corrected abundance'] = adjusted_abundance\n",
    "\n",
    "print(\"Normalization factors:\")\n",
    "for species, ratio in adjustment_ratios.items():\n",
    "    print(\"{:<15} {}\".format(species, ratio))\n",
    "print(\"Data table\")\n",
    "\n",
    "print(mix_data)"
   ]
  },
  {
   "cell_type": "markdown",
   "metadata": {},
   "source": [
    "## Plot mixture and adjusted mixture results\n",
    "The per species results from the mixed samples are plotted in a bar plot with standard error bars. The adjusted values are plotted alongside the raw per species TPR from the mixed samples to illustrate how adjusting the values improve the results. "
   ]
  },
  {
   "cell_type": "code",
   "execution_count": 9,
   "metadata": {
    "collapsed": false
   },
   "outputs": [
    {
     "name": "stdout",
     "output_type": "stream",
     "text": [
      "Mixed samples without correction\n",
      "               <lambda>       sem\n",
      "Species                          \n",
      "E. coli        0.097777  0.003899\n",
      "P. aeruginosa  0.551113  0.008932\n",
      "S. aureus      0.188216  0.011938\n",
      "S. pneumoniae  0.126128  0.001983\n",
      "Mixed samples with correction\n",
      "               <lambda>       sem\n",
      "Species                          \n",
      "E. coli        0.972465  0.038776\n",
      "P. aeruginosa  1.256762  0.020370\n",
      "S. aureus      0.857937  0.054417\n",
      "S. pneumoniae  1.264373  0.019882\n",
      "\n",
      "Normalized mixed samples with correction\n",
      "Species        Abundance      SEM\n",
      "E. coli        0.223476  0.008911\n",
      "P. aeruginosa  0.288809  0.004681\n",
      "S. aureus      0.197157  0.012505\n",
      "S. pneumoniae  0.290558  0.004569\n"
     ]
    }
   ],
   "source": [
    "# Reduce estimated abundances for the mixed samples for use in bar plot\n",
    "mix_means_sems = mix_data.groupby(\"Species\")[\"Estimated abundance\"].aggregate([lambda x: np.mean(x), sem])\n",
    "print(\"Mixed samples without correction\")\n",
    "print(mix_means_sems)\n",
    "mix_names = mix_means_sems.index\n",
    "mix_means = mix_means_sems[\"<lambda>\"]\n",
    "mix_sems = mix_means_sems[\"sem\"]\n",
    "\n",
    "# Reduce corrected abundance estimates for use in bar plot\n",
    "mix_means_sems_corrected = mix_data.groupby(\"Species\")[\"Corrected abundance\"].aggregate([lambda x: np.mean(x), sem])\n",
    "print(\"Mixed samples with correction\")\n",
    "print(mix_means_sems_corrected)\n",
    "mix_means_corrected = mix_means_sems_corrected[\"<lambda>\"]\n",
    "mix_sems_corrected = mix_means_sems_corrected[\"sem\"]\n",
    "\n",
    "# Normalize the corrected abundance estimates for the mixed samples\n",
    "mix_means_corrected_normalized = mix_means_corrected / sum(mix_means_corrected)\n",
    "mix_sems_corrected_normalized = mix_sems_corrected / sum(mix_means_corrected) \n",
    "print(\"\\nNormalized mixed samples with correction\")\n",
    "print(\"{:<14} {:>8} {:>8}\".format(\"Species\", \"Abundance\", \"SEM\"))\n",
    "for species, v1, v2 in zip(mix_names, mix_means_corrected_normalized, mix_sems_corrected_normalized):\n",
    "    print(\"{:<14} {:<1.6f}  {:<1.6f}\".format(species, v1, v2))"
   ]
  },
  {
   "cell_type": "code",
   "execution_count": 10,
   "metadata": {
    "collapsed": false
   },
   "outputs": [
    {
     "data": {
      "image/png": "[encoded data removed]",
      "text/plain": [
       "<matplotlib.figure.Figure at 0x693c99f400>"
      ]
     },
     "metadata": {},
     "output_type": "display_data"
    }
   ],
   "source": [
    "# Adjust bar plot settings\n",
    "font = {\"family\": \"sans\",\n",
    "        \"weight\": \"normal\",\n",
    "        \"size\": 12}\n",
    "mpl.rc(\"font\", **font)\n",
    "indices = np.arange(0, len(mix_names))\n",
    "width = 0.45\n",
    "\n",
    "# Create plot figure with two subplots axes\n",
    "fig_mix, (ax_mix1, ax_mix2) = plt.subplots(1, 2) #, sharey=True)\n",
    "\n",
    "# First plot with raw unmodified abundance estimations\n",
    "rects_mix1 = ax_mix1.bar(indices, \n",
    "                         mix_means, \n",
    "                         width, \n",
    "                         color=\"steelblue\", \n",
    "                         yerr=mix_sems, \n",
    "                         error_kw=dict(ecolor=\"black\"))\n",
    "ax_mix1.spines[\"top\"].set_color(\"none\")\n",
    "ax_mix1.spines[\"right\"].set_color(\"none\")\n",
    "ax_mix1.xaxis.set_ticks_position(\"none\")\n",
    "ax_mix1.yaxis.set_ticks_position(\"left\")\n",
    "# Adjust plot area, set tick labels\n",
    "ax_mix1.set_xlim([-width/2, len(mix_names)-width/2])\n",
    "ax_mix1.set_ylim([0, 0.6])\n",
    "ax_mix1.set_xlabel(\"Species\")\n",
    "ax_mix1.set_ylabel(\"Estimated abundance\")\n",
    "ax_mix1.set_title(\"Estimated abundance (unmodified)\")\n",
    "ax_mix1.set_xticks(indices + width/2)\n",
    "ax_mix1.set_xticklabels(mix_names, style=\"italic\")\n",
    "ax_mix1.set_yticks(np.arange(0, 0.61, 0.05))\n",
    "# Place expected ratio line\n",
    "ax_mix1.plot([-.5,4], [0.25,0.25], color=\"r\")\n",
    "\n",
    "# Second plot with corrected and normalized estimated abundances\n",
    "rects_mix2 = ax_mix2.bar(indices, \n",
    "                         mix_means_corrected_normalized, \n",
    "                         width, \n",
    "                         color=\"steelblue\", \n",
    "                         yerr=mix_sems_corrected_normalized,  \n",
    "                         error_kw=dict(ecolor=\"black\"))\n",
    "ax_mix2.spines[\"top\"].set_color(\"none\")\n",
    "ax_mix2.spines[\"right\"].set_color(\"none\")\n",
    "ax_mix2.xaxis.set_ticks_position(\"none\")\n",
    "ax_mix2.yaxis.set_ticks_position(\"left\")\n",
    "# Adjust plot area, set tick labels\n",
    "ax_mix2.set_xlim([-width/2, len(mix_names)-width/2])\n",
    "ax_mix2.set_ylim([0, 0.6])\n",
    "ax_mix2.set_xlabel(\"Species\")\n",
    "ax_mix2.set_ylabel(\"Estimated abundance\")\n",
    "ax_mix2.set_title(\"Estimated abundance (normalized)\")\n",
    "ax_mix2.set_xticks(indices + width/2)\n",
    "ax_mix2.set_xticklabels(mix_names, style=\"italic\")\n",
    "ax_mix2.set_yticks(np.arange(0, 0.61, 0.05))\n",
    "# Place expected ratio line\n",
    "ax_mix2.plot([-.5,4], [0.25,0.25], color=\"r\")\n",
    "\n",
    "# Adjust figure size, save figures\n",
    "fig_mix.set_figheight(7)\n",
    "fig_mix.set_figwidth(14)\n",
    "plt.savefig(\"real_cultures_mix_tpr.png\")\n",
    "plt.savefig(\"real_cultures_mix_tpr.pdf\")"
   ]
  },
  {
   "cell_type": "markdown",
   "metadata": {},
   "source": [
    "# Supplementary figure normalized with in-silico results\n",
    "Instead of normalizing with results from pure cultures, normalization factors can be determined from in silico results."
   ]
  },
  {
   "cell_type": "code",
   "execution_count": 11,
   "metadata": {
    "collapsed": false
   },
   "outputs": [
    {
     "name": "stdout",
     "output_type": "stream",
     "text": [
      "Mixed samples with correction\n",
      "               <lambda>       sem\n",
      "Species                          \n",
      "E. coli        0.361600  0.014418\n",
      "P. aeruginosa  0.989253  0.016034\n",
      "S. aureus      0.360084  0.022839\n",
      "S. pneumoniae  0.705416  0.011093\n",
      "\n",
      "Normalized mixed samples with in silico correction\n",
      "Species        Abundance      SEM\n",
      "E. coli        0.149647  0.005967\n",
      "P. aeruginosa  0.409399  0.006636\n",
      "S. aureus      0.149019  0.009452\n",
      "S. pneumoniae  0.291934  0.004591\n"
     ]
    }
   ],
   "source": [
    "# Add a column with in-silico-corrected values for estimated abundance\n",
    "insilico_abundance = pd.Series(index=mix_data.index)\n",
    "insilico_adjustment_ratios = {\"E. coli\": 0.2704, \n",
    "                              \"P. aeruginosa\": 0.5571, \n",
    "                              \"S. aureus\":  0.5227, \n",
    "                              \"S. pneumoniae\": 0.1788}\n",
    "for row in mix_data.iterrows():\n",
    "    insilico_abundance[row[0]] = row[1][\"Estimated abundance\"] / insilico_adjustment_ratios[row[1][\"Species\"]]\n",
    "mix_data.loc[:,'Insilico corrected abundance'] = insilico_abundance\n",
    "\n",
    "\n",
    "# Reduce corrected abundance estimates for use in bar plot\n",
    "mix_means_sems_corrected_insilico = mix_data.groupby(\"Species\")[\"Insilico corrected abundance\"].aggregate([lambda x: np.mean(x), sem])\n",
    "print(\"Mixed samples with correction\")\n",
    "print(mix_means_sems_corrected_insilico)\n",
    "mix_means_corrected_insilico = mix_means_sems_corrected_insilico[\"<lambda>\"]\n",
    "mix_sems_corrected_insilico = mix_means_sems_corrected_insilico[\"sem\"]\n",
    "\n",
    "# Normalize the corrected abundance estimates for the mixed samples\n",
    "mix_means_corrected_normalized_insilico = mix_means_corrected_insilico / sum(mix_means_corrected_insilico)\n",
    "mix_sems_corrected_normalized_insilico = mix_sems_corrected_insilico / sum(mix_means_corrected_insilico) \n",
    "print(\"\\nNormalized mixed samples with in silico correction\")\n",
    "print(\"{:<14} {:>8} {:>8}\".format(\"Species\", \"Abundance\", \"SEM\"))\n",
    "for species, v1, v2 in zip(mix_names, mix_means_corrected_normalized_insilico, mix_sems_corrected_normalized_insilico):\n",
    "    print(\"{:<14} {:<1.6f}  {:<1.6f}\".format(species, v1, v2))"
   ]
  },
  {
   "cell_type": "code",
   "execution_count": 12,
   "metadata": {
    "collapsed": false
   },
   "outputs": [
    {
     "data": {
      "image/png": "[encoded data removed]",
      "text/plain": [
       "<matplotlib.figure.Figure at 0x693d1306d8>"
      ]
     },
     "metadata": {},
     "output_type": "display_data"
    }
   ],
   "source": [
    "# Adjust bar plot settings\n",
    "font = {\"family\": \"sans\",\n",
    "        \"weight\": \"normal\",\n",
    "        \"size\": 12}\n",
    "mpl.rc(\"font\", **font)\n",
    "indices = np.arange(0, len(mix_names))\n",
    "width = 0.45\n",
    "\n",
    "# Create plot figure with three  subplots axes\n",
    "fig_mix, (ax_mix1, ax_mix2, ax_mix3) = plt.subplots(1, 3) #, sharey=True)\n",
    "\n",
    "# First plot with raw unmodified abundance estimations\n",
    "rects_mix1 = ax_mix1.bar(indices, \n",
    "                         mix_means, \n",
    "                         width, \n",
    "                         color=\"steelblue\", \n",
    "                         yerr=mix_sems, \n",
    "                         error_kw=dict(ecolor=\"black\"))\n",
    "ax_mix1.spines[\"top\"].set_color(\"none\")\n",
    "ax_mix1.spines[\"right\"].set_color(\"none\")\n",
    "ax_mix1.xaxis.set_ticks_position(\"none\")\n",
    "ax_mix1.yaxis.set_ticks_position(\"left\")\n",
    "# Adjust plot area, set tick labels\n",
    "ax_mix1.set_xlim([-width/2, len(mix_names)-width/2])\n",
    "ax_mix1.set_ylim([0, 0.6])\n",
    "ax_mix1.set_xlabel(\"Species\")\n",
    "ax_mix1.set_ylabel(\"Estimated abundance\")\n",
    "ax_mix1.set_title(\"Estimated abundance (unnormalized)\")\n",
    "ax_mix1.set_xticks(indices + width/2)\n",
    "ax_mix1.set_xticklabels(mix_names, style=\"italic\")\n",
    "ax_mix1.set_yticks(np.arange(0, 0.61, 0.05))\n",
    "# Place expected ratio line\n",
    "ax_mix1.plot([-.5,4], [0.25,0.25], color=\"r\")\n",
    "\n",
    "# Second plot with corrected and normalized estimated abundances\n",
    "rects_mix2 = ax_mix2.bar(indices, \n",
    "                         mix_means_corrected_normalized, \n",
    "                         width, \n",
    "                         color=\"steelblue\", \n",
    "                         yerr=mix_sems_corrected_normalized,  \n",
    "                         error_kw=dict(ecolor=\"black\"))\n",
    "ax_mix2.spines[\"top\"].set_color(\"none\")\n",
    "ax_mix2.spines[\"right\"].set_color(\"none\")\n",
    "ax_mix2.xaxis.set_ticks_position(\"none\")\n",
    "ax_mix2.yaxis.set_ticks_position(\"left\")\n",
    "# Adjust plot area, set tick labels\n",
    "ax_mix2.set_xlim([-width/2, len(mix_names)-width/2])\n",
    "ax_mix2.set_ylim([0, 0.6])\n",
    "ax_mix2.set_xlabel(\"Species\")\n",
    "ax_mix2.set_ylabel(\"Estimated abundance\")\n",
    "ax_mix2.set_title(\"Estimated abundance (normalized)\")\n",
    "ax_mix2.set_xticks(indices + width/2)\n",
    "ax_mix2.set_xticklabels(mix_names, style=\"italic\")\n",
    "ax_mix2.set_yticks(np.arange(0, 0.61, 0.05))\n",
    "# Place expected ratio line\n",
    "ax_mix2.plot([-.5,4], [0.25,0.25], color=\"r\")\n",
    "\n",
    "# Third plot with in silico corrected and normalized estimated abundances\n",
    "rects_mix3 = ax_mix3.bar(indices, \n",
    "                         mix_means_corrected_normalized_insilico, \n",
    "                         width, \n",
    "                         color=\"steelblue\", \n",
    "                         yerr=mix_sems_corrected_normalized_insilico,  \n",
    "                         error_kw=dict(ecolor=\"black\"))\n",
    "ax_mix3.spines[\"top\"].set_color(\"none\")\n",
    "ax_mix3.spines[\"right\"].set_color(\"none\")\n",
    "ax_mix3.xaxis.set_ticks_position(\"none\")\n",
    "ax_mix3.yaxis.set_ticks_position(\"left\")\n",
    "# Adjust plot area, set tick labels\n",
    "ax_mix3.set_xlim([-width/2, len(mix_names)-width/2])\n",
    "ax_mix3.set_ylim([0, 0.6])\n",
    "ax_mix3.set_xlabel(\"Species\")\n",
    "ax_mix3.set_ylabel(\"Estimated abundance\")\n",
    "ax_mix3.set_title(\"Estimated abundance (in silico normalized)\")\n",
    "ax_mix3.set_xticks(indices + width/2)\n",
    "ax_mix3.set_xticklabels(mix_names, style=\"italic\")\n",
    "ax_mix3.set_yticks(np.arange(0, 0.61, 0.05))\n",
    "# Place expected ratio line\n",
    "ax_mix3.plot([-.5,4], [0.25,0.25], color=\"r\")\n",
    "\n",
    "# Adjust figure size, save figures\n",
    "fig_mix.set_figheight(7)\n",
    "fig_mix.set_figwidth(21)\n",
    "plt.savefig(\"real_cultures_mix_tpr_insilico.png\")\n",
    "plt.savefig(\"real_cultures_mix_tpr_insilico.pdf\")"
   ]
  },
  {
   "cell_type": "code",
   "execution_count": 13,
   "metadata": {
    "collapsed": false
   },
   "outputs": [
    {
     "name": "stdout",
     "output_type": "stream",
     "text": [
      "          Species Estimated abundance  Corrected abundance  Insilico corrected abundance\n",
      "0         E. coli            0.105121             1.045513                      0.388762\n",
      "1         E. coli           0.0918367             0.913388                      0.339633\n",
      "2         E. coli           0.0963719             0.958493                      0.356405\n",
      "3   P. aeruginosa            0.566038             1.290796                      1.016043\n",
      "4   P. aeruginosa            0.552154             1.259136                      0.991122\n",
      "5   P. aeruginosa            0.535147             1.220353                      0.960595\n",
      "6       S. aureus             0.16442             0.749472                      0.314560\n",
      "7       S. aureus            0.198413             0.904417                      0.379592\n",
      "8       S. aureus            0.201814             0.919921                      0.386099\n",
      "9   S. pneumoniae            0.126685             1.269948                      0.708527\n",
      "10  S. pneumoniae            0.122449             1.227488                      0.684838\n",
      "11  S. pneumoniae            0.129252             1.295682                      0.722884\n"
     ]
    }
   ],
   "source": [
    "# Print a table of all the relevant abundances, raw, and normalized, and in silico corrected and normalized\n",
    "print(mix_data[[\"Species\", \"Estimated abundance\", \"Corrected abundance\", \"Insilico corrected abundance\"]])"
   ]
  },
  {
   "cell_type": "code",
   "execution_count": null,
   "metadata": {
    "collapsed": true
   },
   "outputs": [],
   "source": []
  }
 ],
 "metadata": {
  "kernelspec": {
   "display_name": "Python 3",
   "language": "python",
   "name": "python3"
  },
  "language_info": {
   "codemirror_mode": {
    "name": "ipython",
    "version": 3
   },
   "file_extension": ".py",
   "mimetype": "text/x-python",
   "name": "python",
   "nbconvert_exporter": "python",
   "pygments_lexer": "ipython3",
   "version": "3.5.1"
  }
 },
 "nbformat": 4,
 "nbformat_minor": 0
}
