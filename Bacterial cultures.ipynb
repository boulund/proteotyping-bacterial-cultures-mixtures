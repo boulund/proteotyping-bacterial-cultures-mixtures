{
 "cells": [
  {
   "cell_type": "markdown",
   "metadata": {
    "collapsed": true
   },
   "source": [
    "# Proteotyping of pure bacterial cultures\n",
    "Pure cultures of four species of bacteria: *Escherichia coli*, *Pseudomonas aeruginosa*, *Staphyoloccus aureus*, *Streptococcus pneumoniae*. Each species was cultured in three identical replicates and run through the following workflow steps:\n",
    "\n",
    " 1. Cell culture\n",
    " 2. Proteomics prep\n",
    " 3. Tandem MS\n",
    " 4. ReAdW raw to mzXML conversion\n",
    " 5. X!Tandem peptide search\n",
    " 6. BLAT alignments of peptides to translated genome sequences\n",
    " 7. TCUP\n",
    "\n",
    "The following samples were used:\n",
    "\n",
    "    QE_150508_32\t \tS. pneumoniae\n",
    "    QE_150508_35\t \tS. pneumoniae\n",
    "    QE_150508_38\t \tS. pneumoniae\n",
    "    QE_150611_128\t\tS. aureus\n",
    "    QE_150611_131\t\tS. aureus\n",
    "    QE_150611_137\t\tS. aureus\n",
    "    QE_150611_140\t\tE. coli\n",
    "    QE_150611_143\t\tE. coli\n",
    "    QE_150611_146\t\tE. coli\n",
    "    QE_150611_152\t\tP. aeruginosa\n",
    "    QE_150611_155\t\tP. aeruginosa\n",
    "    QE_150611_158\t\tP. aeruginosa\n",
    "    QE_150611_161\t\tP. aeruginosa, E. coli, S. aureus, S. pneumoniae, 1:1:1:1 mixture\n",
    "    QE_150611_164\t\tP. aeruginosa, E. coli, S. aureus, S. pneumoniae, 1:1:1:1 mixture\n",
    "    QE_150611_169\t\tP. aeruginosa, E. coli, S. aureus, S. pneumoniae, 1:1:1:1 mixture"
   ]
  },
  {
   "cell_type": "code",
   "execution_count": 52,
   "metadata": {
    "collapsed": false
   },
   "outputs": [
    {
     "name": "stderr",
     "output_type": "stream",
     "text": [
      "C:\\Users\\Fredrik\\Anaconda3\\lib\\site-packages\\matplotlib\\__init__.py:1350: UserWarning:  This call to matplotlib.use() has no effect\n",
      "because the backend has already been chosen;\n",
      "matplotlib.use() must be called *before* pylab, matplotlib.pyplot,\n",
      "or matplotlib.backends is imported for the first time.\n",
      "\n",
      "  warnings.warn(_use_error_msg)\n"
     ]
    }
   ],
   "source": [
    "# Import all required libraries\n",
    "import matplotlib as mpl, matplotlib\n",
    "matplotlib.use(\"Agg\")\n",
    "%matplotlib inline\n",
    "from pylab import *\n",
    "import numpy as np\n",
    "import pandas as pd\n",
    "from scipy.stats import sem\n",
    "from os import listdir, path\n",
    "\n",
    "pd.set_option('display.max_columns', 500)\n",
    "pd.set_option('display.width', 1000)"
   ]
  },
  {
   "cell_type": "markdown",
   "metadata": {},
   "source": [
    "# Pure bacterial cultures\n",
    "Data from the analysis of bacterial cultures were manually entered into the next cell of the notebook.\n",
    "The data are from the following runs:\n",
    "\n",
    "    QE_150508_{32,35,38}     S. pneumoniae\n",
    "    QE_150611_{128,131,137}  S. aureus\n",
    "    QE_150611_{140,143,146}  E. coli\n",
    "    QE_150611_{152,155,157}  P. aeruginosa"
   ]
  },
  {
   "cell_type": "code",
   "execution_count": 53,
   "metadata": {
    "collapsed": false
   },
   "outputs": [
    {
     "name": "stdout",
     "output_type": "stream",
     "text": [
      "          Species Number of spectra Discriminative peptides Correct assignments True positive rate (TPR)\n",
      "0         E. coli              3490                     150                 125                 0.833333\n",
      "1         E. coli              4830                     217                 177                 0.815668\n",
      "2         E. coli              4925                     222                 195                 0.878378\n",
      "3   P. aeruginosa              4450                     693                 662                 0.955267\n",
      "4   P. aeruginosa              3048                     372                 353                 0.948925\n",
      "5   P. aeruginosa              5192                     938                 881                 0.939232\n",
      "6       S. aureus              3973                     320                 310                  0.96875\n",
      "7       S. aureus              3533                     227                 221                 0.973568\n",
      "8       S. aureus              4103                     362                 353                 0.975138\n",
      "9   S. pneumoniae              5333                     279                 263                 0.942652\n",
      "10  S. pneumoniae              5193                     268                 255                 0.951493\n",
      "11  S. pneumoniae              4754                     263                 235                 0.893536\n"
     ]
    }
   ],
   "source": [
    "species = pd.Series([\"E. coli\", \"E. coli\", \"E. coli\", \n",
    "                     \"P. aeruginosa\", \"P. aeruginosa\", \"P. aeruginosa\", \n",
    "                     \"S. aureus\", \"S. aureus\", \"S. aureus\", \n",
    "                     \"S. pneumoniae\", \"S. pneumoniae\", \"S. pneumoniae\"],\n",
    "                   name=\"Species\")\n",
    "numspectra = pd.Series([3490, 4830, 4925,\n",
    "                        4450, 3048, 5192,\n",
    "                        3973, 3533, 4103, \n",
    "                        5333, 5193, 4754], \n",
    "                       name=\"Number of spectra\")\n",
    "discriminative_peptides = pd.Series([150, 217, 222,\n",
    "                                     693, 372, 938,\n",
    "                                     320, 227, 362,\n",
    "                                     279, 268, 263], \n",
    "                                     name=\"Discriminative peptides\")\n",
    "correct_assignments = pd.Series([125, 177, 195,\n",
    "                                 662, 353, 881, \n",
    "                                 310, 221, 353,\n",
    "                                 263, 255, 235], \n",
    "                                name=\"Correct assignments\")\n",
    "TPR = pd.Series(correct_assignments / discriminative_peptides, name=\"True positive rate (TPR)\")\n",
    "raw_data = pd.DataFrame([species, numspectra, discriminative_peptides, correct_assignments, TPR]).transpose()\n",
    "print(raw_data)"
   ]
  },
  {
   "cell_type": "code",
   "execution_count": 54,
   "metadata": {
    "collapsed": false
   },
   "outputs": [
    {
     "name": "stdout",
     "output_type": "stream",
     "text": [
      "Means\n",
      "               Number of spectra  Discriminative peptides  Correct assignments  True positive rate (TPR)\n",
      "Species                                                                                                 \n",
      "E. coli              4415.000000               196.333333           165.666667                  0.842460\n",
      "P. aeruginosa        4230.000000               667.666667           632.000000                  0.947808\n",
      "S. aureus            3869.666667               303.000000           294.666667                  0.972485\n",
      "S. pneumoniae        5093.333333               270.000000           251.000000                  0.929227\n",
      "Standard deviations\n",
      "               Number of spectra  Discriminative peptides  Correct assignments  True positive rate (TPR)\n",
      "Species                                                                                                 \n",
      "E. coli               655.222608                32.826141            29.679772                  0.026402\n",
      "P. aeruginosa         889.000937               231.761851           216.596399                  0.006594\n",
      "S. aureus             243.903442                56.409219            54.968678                  0.002718\n",
      "S. pneumoniae         246.658108                 6.683313            11.775681                  0.025494\n",
      "Overall maximum: 5333\n",
      "Overall minimum: 3048\n"
     ]
    }
   ],
   "source": [
    "print(\"Means\")\n",
    "print(raw_data.groupby(\"Species\").aggregate(lambda x: np.mean(x)))\n",
    "print(\"Standard deviations\")\n",
    "print(raw_data.groupby(\"Species\").aggregate(lambda x: np.std(x)))\n",
    "print(\"Overall maximum:\", np.max(raw_data[\"Number of spectra\"]))\n",
    "print(\"Overall minimum:\", np.min(raw_data[\"Number of spectra\"]))"
   ]
  },
  {
   "cell_type": "markdown",
   "metadata": {},
   "source": [
    "## Pure bacterial samples barchart\n",
    "Plot a barchart of the average sensitivity for each species, along with standard error bars (SEM) to indicate the variability of the results."
   ]
  },
  {
   "cell_type": "code",
   "execution_count": 55,
   "metadata": {
    "collapsed": false
   },
   "outputs": [
    {
     "name": "stdout",
     "output_type": "stream",
     "text": [
      "               <lambda>       sem\n",
      "Species                          \n",
      "E. coli        0.842460  0.018669\n",
      "P. aeruginosa  0.947808  0.004662\n",
      "S. aureus      0.972485  0.001922\n",
      "S. pneumoniae  0.929227  0.018027\n"
     ]
    }
   ],
   "source": [
    "means_sems = raw_data.groupby(\"Species\")[\"True positive rate (TPR)\"].aggregate([lambda x: np.mean(x), sem])\n",
    "print(means_sems)\n",
    "names = means_sems.index\n",
    "means = means_sems[\"<lambda>\"]\n",
    "sems = means_sems[\"sem\"]"
   ]
  },
  {
   "cell_type": "code",
   "execution_count": 56,
   "metadata": {
    "collapsed": false
   },
   "outputs": [
    {
     "data": {
      "image/png": "[encoded data removed]",
      "text/plain": [
       "<matplotlib.figure.Figure at 0x176b299cf8>"
      ]
     },
     "metadata": {},
     "output_type": "display_data"
    }
   ],
   "source": [
    "font = {\"family\": \"sans\",\n",
    "        \"weight\": \"normal\",\n",
    "        \"size\": 14}\n",
    "mpl.rc(\"font\", **font)\n",
    "\n",
    "indices = np.arange(0, len(means_sems))\n",
    "width = 0.45\n",
    "\n",
    "fig, ax = plt.subplots()\n",
    "rects = ax.bar(indices, means, width, yerr=sems, color=\"steelblue\", error_kw=dict(ecolor=\"black\"))\n",
    "ax.spines[\"top\"].set_color(\"none\")\n",
    "ax.spines[\"right\"].set_color(\"none\")\n",
    "ax.xaxis.set_ticks_position(\"none\")\n",
    "ax.yaxis.set_ticks_position(\"left\")\n",
    "\n",
    "# Adjust plot area, set tick labels\n",
    "ylim([0.7, 1])\n",
    "xlim([-width/2, len(names)-width/2])\n",
    "xlabel(\"Species\")\n",
    "ylabel(\"True positive rate (TPR)\")\n",
    "ax.set_xticks(indices + width/2)\n",
    "ax.set_xticklabels(names, style=\"italic\")\n",
    "\n",
    "# Adjust figure size, save figures\n",
    "fig.set_figheight(10)\n",
    "fig.set_figwidth(10)\n",
    "plt.savefig(\"real_cultures_tpr.png\")\n",
    "plt.savefig(\"real_cultures_tpr.pdf\")"
   ]
  },
  {
   "cell_type": "markdown",
   "metadata": {
    "collapsed": true
   },
   "source": [
    "# Mixed bacterial cultures\n",
    "Mixed samples with equal ratio of all four species (1:1:1:1), the data are from the following runs:\n",
    "\n",
    "    QE_150611_161\n",
    "    QE_150611_164\n",
    "    QE_150611_169"
   ]
  },
  {
   "cell_type": "code",
   "execution_count": 57,
   "metadata": {
    "collapsed": false
   },
   "outputs": [
    {
     "name": "stdout",
     "output_type": "stream",
     "text": [
      "          Species Number of spectra Discriminative fragments Species assignments Estimated abundance\n",
      "0         E. coli              4187                      301                  26           0.0863787\n",
      "1         E. coli              4911                      378                  29           0.0767196\n",
      "2         E. coli              4402                      384                  31           0.0807292\n",
      "3   P. aeruginosa              4187                      301                 162            0.538206\n",
      "4   P. aeruginosa              4911                      378                 198             0.52381\n",
      "5   P. aeruginosa              4402                      384                 192                 0.5\n",
      "6       S. aureus              4187                      301                  51            0.169435\n",
      "7       S. aureus              4911                      378                  86            0.227513\n",
      "8       S. aureus              4402                      384                  93            0.242188\n",
      "9   S. pneumoniae              4187                      301                  37            0.122924\n",
      "10  S. pneumoniae              4911                      378                  43            0.113757\n",
      "11  S. pneumoniae              4402                      384                  43            0.111979\n"
     ]
    }
   ],
   "source": [
    "# Raw data for mixed samples\n",
    "species = pd.Series([\"E. coli\", \"E. coli\", \"E. coli\", \n",
    "                     \"P. aeruginosa\", \"P. aeruginosa\", \"P. aeruginosa\", \n",
    "                     \"S. aureus\", \"S. aureus\", \"S. aureus\", \n",
    "                     \"S. pneumoniae\", \"S. pneumoniae\", \"S. pneumoniae\"],\n",
    "                   name=\"Species\")\n",
    "numspectra_mix = pd.Series([4187, 4911, 4402,\n",
    "                        4187, 4911, 4402,\n",
    "                        4187, 4911, 4402,\n",
    "                        4187, 4911, 4402],\n",
    "                       name=\"Number of spectra\")\n",
    "discriminative_fragments = pd.Series([301, 378, 384,\n",
    "                                      301, 378, 384,\n",
    "                                      301, 378, 384,\n",
    "                                      301, 378, 384],\n",
    "                                     name=\"Discriminative fragments\")\n",
    "species_assignments = pd.Series([26,  29,  31,\n",
    "                                 162, 198, 192, \n",
    "                                 51, 86, 93,\n",
    "                                 37,  43,  43], \n",
    "                                name=\"Species assignments\")\n",
    "estimated_abundance = pd.Series(species_assignments / discriminative_fragments, name=\"Estimated abundance\")\n",
    "mix_data = pd.DataFrame([species, numspectra_mix, discriminative_fragments, species_assignments, estimated_abundance]).transpose()\n",
    "print(mix_data)"
   ]
  },
  {
   "cell_type": "code",
   "execution_count": 58,
   "metadata": {
    "collapsed": false
   },
   "outputs": [
    {
     "name": "stdout",
     "output_type": "stream",
     "text": [
      "Means\n",
      "               Number of spectra  Discriminative fragments  Species assignments  Estimated abundance\n",
      "Species                                                                                             \n",
      "E. coli                     4500                354.333333            28.666667             0.081276\n",
      "P. aeruginosa               4500                354.333333           184.000000             0.520672\n",
      "S. aureus                   4500                354.333333            76.666667             0.213045\n",
      "S. pneumoniae               4500                354.333333            41.000000             0.116220\n",
      "Standard deviations\n",
      "               Number of spectra  Discriminative fragments  Species assignments  Estimated abundance\n",
      "Species                                                                                             \n",
      "E. coli               303.586341                 37.791827             2.054805             0.003962\n",
      "P. aeruginosa         303.586341                 37.791827            15.748016             0.015755\n",
      "S. aureus             303.586341                 37.791827            18.372685             0.031414\n",
      "S. pneumoniae         303.586341                 37.791827             2.828427             0.004796\n",
      "Overall average spectra: 4500.0\n",
      "Overall average discriminative: 354.333333333\n",
      "Overall maximum: 4911\n",
      "Overall minimum: 4187\n"
     ]
    }
   ],
   "source": [
    "print(\"Means\")\n",
    "print(mix_data.groupby(\"Species\").aggregate(lambda x: np.mean(x)))\n",
    "print(\"Standard deviations\")\n",
    "print(mix_data.groupby(\"Species\").aggregate(lambda x: np.std(x)))\n",
    "print(\"Overall average spectra:\", np.mean(mix_data[\"Number of spectra\"]))\n",
    "print(\"Overall average discriminative:\", np.mean(mix_data[\"Discriminative fragments\"]))\n",
    "print(\"Overall maximum:\", np.max(mix_data[\"Number of spectra\"]) )\n",
    "print(\"Overall minimum:\", np.min(mix_data[\"Number of spectra\"]))"
   ]
  },
  {
   "cell_type": "markdown",
   "metadata": {},
   "source": [
    "## Adjustment/normalization ratios\n",
    "The adjustment ratio used to modify the raw estimations of abundance are calculated from the TPR data of the pure bacterial cultures.  "
   ]
  },
  {
   "cell_type": "code",
   "execution_count": 59,
   "metadata": {
    "collapsed": false
   },
   "outputs": [
    {
     "name": "stdout",
     "output_type": "stream",
     "text": [
      "Normalization factors:\n",
      "E. coli         0.037352163424511885\n",
      "S. pneumoniae   0.04928406775826628\n",
      "S. aureus       0.07553811998595412\n",
      "P. aeruginosa   0.1447539408892252\n",
      "Data table\n",
      "          Species Number of spectra Discriminative fragments Species assignments Estimated abundance  Corrected abundance\n",
      "0         E. coli              4187                      301                  26           0.0863787             2.312550\n",
      "1         E. coli              4911                      378                  29           0.0767196             2.053953\n",
      "2         E. coli              4402                      384                  31           0.0807292             2.161298\n",
      "3   P. aeruginosa              4187                      301                 162            0.538206             3.718075\n",
      "4   P. aeruginosa              4911                      378                 198             0.52381             3.618620\n",
      "5   P. aeruginosa              4402                      384                 192                 0.5             3.454137\n",
      "6       S. aureus              4187                      301                  51            0.169435             2.243043\n",
      "7       S. aureus              4911                      378                  86            0.227513             3.011900\n",
      "8       S. aureus              4402                      384                  93            0.242188             3.206163\n",
      "9   S. pneumoniae              4187                      301                  37            0.122924             2.494185\n",
      "10  S. pneumoniae              4911                      378                  43            0.113757             2.308182\n",
      "11  S. pneumoniae              4402                      384                  43            0.111979             2.272117\n"
     ]
    }
   ],
   "source": [
    "# Compute adjustment ratios based on data from pure samples\n",
    "adjustment_ratios = {}\n",
    "for name, group in raw_data.groupby(\"Species\"):\n",
    "    adjustment_ratios[name] = np.mean(group[\"Correct assignments\"] / group[\"Number of spectra\"])\n",
    "\n",
    "# Add a column with corrected values for estimated abundance\n",
    "adjusted_abundance = pd.Series(index=mix_data.index)\n",
    "for row in mix_data.iterrows():\n",
    "    adjusted_abundance[row[0]] = row[1][\"Estimated abundance\"] / adjustment_ratios[row[1][\"Species\"]]\n",
    "mix_data.loc[:,'Corrected abundance'] = adjusted_abundance\n",
    "\n",
    "print(\"Normalization factors:\")\n",
    "for species, ratio in adjustment_ratios.items():\n",
    "    print(\"{:<15} {}\".format(species, ratio))\n",
    "print(\"Data table\")\n",
    "\n",
    "print(mix_data)"
   ]
  },
  {
   "cell_type": "markdown",
   "metadata": {},
   "source": [
    "## Plot mixture and adjusted mixture results\n",
    "The per species results from the mixed samples are plotted in a bar plot with standard error bars. The adjusted values are plotted alongside the raw per species TPR from the mixed samples to illustrate how adjusting the values improve the results. "
   ]
  },
  {
   "cell_type": "code",
   "execution_count": 60,
   "metadata": {
    "collapsed": false
   },
   "outputs": [
    {
     "name": "stdout",
     "output_type": "stream",
     "text": [
      "Mixed samples without correction\n",
      "               <lambda>       sem\n",
      "Species                          \n",
      "E. coli        0.081276  0.002802\n",
      "P. aeruginosa  0.520672  0.011140\n",
      "S. aureus      0.213045  0.022213\n",
      "S. pneumoniae  0.116220  0.003391\n",
      "Mixed samples with correction\n",
      "               <lambda>       sem\n",
      "Species                          \n",
      "E. coli        2.175934  0.075008\n",
      "P. aeruginosa  3.596944  0.076959\n",
      "S. aureus      2.820368  0.294060\n",
      "S. pneumoniae  2.358161  0.068804\n",
      "\n",
      "Normalized mixed samples with correction\n",
      "Species        Abundance      SEM\n",
      "E. coli        0.198690  0.006849\n",
      "P. aeruginosa  0.328446  0.007027\n",
      "S. aureus      0.257535  0.026851\n",
      "S. pneumoniae  0.215330  0.006283\n"
     ]
    }
   ],
   "source": [
    "# Reduce estimated abundances for the mixed samples for use in bar plot\n",
    "mix_means_sems = mix_data.groupby(\"Species\")[\"Estimated abundance\"].aggregate([lambda x: np.mean(x), sem])\n",
    "print(\"Mixed samples without correction\")\n",
    "print(mix_means_sems)\n",
    "mix_names = mix_means_sems.index\n",
    "mix_means = mix_means_sems[\"<lambda>\"]\n",
    "mix_sems = mix_means_sems[\"sem\"]\n",
    "\n",
    "# Reduce corrected abundance estimates for use in bar plot\n",
    "mix_means_sems_corrected = mix_data.groupby(\"Species\")[\"Corrected abundance\"].aggregate([lambda x: np.mean(x), sem])\n",
    "print(\"Mixed samples with correction\")\n",
    "print(mix_means_sems_corrected)\n",
    "mix_means_corrected = mix_means_sems_corrected[\"<lambda>\"]\n",
    "mix_sems_corrected = mix_means_sems_corrected[\"sem\"]\n",
    "\n",
    "# Normalize the corrected abundance estimates for the mixed samples\n",
    "mix_means_corrected_normalized = mix_means_corrected / sum(mix_means_corrected)\n",
    "mix_sems_corrected_normalized = mix_sems_corrected / sum(mix_means_corrected) \n",
    "print(\"\\nNormalized mixed samples with correction\")\n",
    "print(\"{:<14} {:>8} {:>8}\".format(\"Species\", \"Abundance\", \"SEM\"))\n",
    "for species, v1, v2 in zip(mix_names, mix_means_corrected_normalized, mix_sems_corrected_normalized):\n",
    "    print(\"{:<14} {:<1.6f}  {:<1.6f}\".format(species, v1, v2))"
   ]
  },
  {
   "cell_type": "code",
   "execution_count": 61,
   "metadata": {
    "collapsed": false
   },
   "outputs": [
    {
     "data": {
      "image/png": "[encoded data removed]",
      "text/plain": [
       "<matplotlib.figure.Figure at 0x176aa3b198>"
      ]
     },
     "metadata": {},
     "output_type": "display_data"
    }
   ],
   "source": [
    "# Adjust bar plot settings\n",
    "font = {\"family\": \"sans\",\n",
    "        \"weight\": \"normal\",\n",
    "        \"size\": 12}\n",
    "mpl.rc(\"font\", **font)\n",
    "indices = np.arange(0, len(mix_names))\n",
    "width = 0.45\n",
    "\n",
    "# Create plot figure with two subplots axes\n",
    "fig_mix, (ax_mix1, ax_mix2) = plt.subplots(1, 2) #, sharey=True)\n",
    "\n",
    "# First plot with raw unmodified abundance estimations\n",
    "rects_mix1 = ax_mix1.bar(indices, \n",
    "                         mix_means, \n",
    "                         width, \n",
    "                         color=\"steelblue\", \n",
    "                         yerr=mix_sems, \n",
    "                         error_kw=dict(ecolor=\"black\"))\n",
    "ax_mix1.spines[\"top\"].set_color(\"none\")\n",
    "ax_mix1.spines[\"right\"].set_color(\"none\")\n",
    "ax_mix1.xaxis.set_ticks_position(\"none\")\n",
    "ax_mix1.yaxis.set_ticks_position(\"left\")\n",
    "# Adjust plot area, set tick labels\n",
    "ax_mix1.set_xlim([-width/2, len(mix_names)-width/2])\n",
    "ax_mix1.set_ylim([0, 0.55])\n",
    "ax_mix1.set_xlabel(\"Species\")\n",
    "ax_mix1.set_ylabel(\"Estimated abundance\")\n",
    "ax_mix1.set_title(\"Estimated abundance (unmodified)\")\n",
    "ax_mix1.set_xticks(indices + width/2)\n",
    "ax_mix1.set_xticklabels(mix_names, style=\"italic\")\n",
    "ax_mix1.set_yticks(np.arange(0, 0.56, 0.05))\n",
    "# Place expected ratio line\n",
    "ax_mix1.plot([-.5,4], [0.25,0.25], color=\"r\")\n",
    "\n",
    "# Second plot with corrected and normalized estimated abundances\n",
    "rects_mix2 = ax_mix2.bar(indices, \n",
    "                         mix_means_corrected_normalized, \n",
    "                         width, \n",
    "                         color=\"steelblue\", \n",
    "                         yerr=mix_sems_corrected_normalized,  \n",
    "                         error_kw=dict(ecolor=\"black\"))\n",
    "ax_mix2.spines[\"top\"].set_color(\"none\")\n",
    "ax_mix2.spines[\"right\"].set_color(\"none\")\n",
    "ax_mix2.xaxis.set_ticks_position(\"none\")\n",
    "ax_mix2.yaxis.set_ticks_position(\"left\")\n",
    "# Adjust plot area, set tick labels\n",
    "ax_mix2.set_xlim([-width/2, len(mix_names)-width/2])\n",
    "ax_mix2.set_ylim([0, 0.55])\n",
    "ax_mix2.set_xlabel(\"Species\")\n",
    "ax_mix2.set_ylabel(\"Estimated abundance\")\n",
    "ax_mix2.set_title(\"Estimated abundance (normalized)\")\n",
    "ax_mix2.set_xticks(indices + width/2)\n",
    "ax_mix2.set_xticklabels(mix_names, style=\"italic\")\n",
    "ax_mix2.set_yticks(np.arange(0, 0.56, 0.05))\n",
    "# Place expected ratio line\n",
    "ax_mix2.plot([-.5,4], [0.25,0.25], color=\"r\")\n",
    "\n",
    "# Adjust figure size, save figures\n",
    "fig_mix.set_figheight(7)\n",
    "fig_mix.set_figwidth(14)\n",
    "plt.savefig(\"real_cultures_mix_tpr.png\")\n",
    "plt.savefig(\"real_cultures_mix_tpr.pdf\")"
   ]
  },
  {
   "cell_type": "markdown",
   "metadata": {},
   "source": [
    "# Supplementary figure normalized with in-silico results\n",
    "Instead of normalizing with results from pure cultures, normalization factors can be determined from in silico results."
   ]
  },
  {
   "cell_type": "code",
   "execution_count": 62,
   "metadata": {
    "collapsed": false
   },
   "outputs": [
    {
     "name": "stdout",
     "output_type": "stream",
     "text": [
      "Mixed samples with correction\n",
      "               <lambda>       sem\n",
      "Species                          \n",
      "E. coli        0.300576  0.010361\n",
      "P. aeruginosa  0.934611  0.019997\n",
      "S. aureus      0.407586  0.042496\n",
      "S. pneumoniae  0.649999  0.018965\n",
      "\n",
      "Normalized mixed samples with in silico correction\n",
      "Species        Abundance      SEM\n",
      "E. coli        0.131097  0.004519\n",
      "P. aeruginosa  0.407634  0.008722\n",
      "S. aureus      0.177770  0.018535\n",
      "S. pneumoniae  0.283499  0.008272\n"
     ]
    }
   ],
   "source": [
    "# Add a column with in-silico-corrected values for estimated abundance\n",
    "insilico_abundance = pd.Series(index=mix_data.index)\n",
    "insilico_adjustment_ratios = {\"E. coli\": 0.2704, \n",
    "                              \"P. aeruginosa\": 0.5571, \n",
    "                              \"S. aureus\":  0.5227, \n",
    "                              \"S. pneumoniae\": 0.1788}\n",
    "for row in mix_data.iterrows():\n",
    "    insilico_abundance[row[0]] = row[1][\"Estimated abundance\"] / insilico_adjustment_ratios[row[1][\"Species\"]]\n",
    "mix_data.loc[:,'Insilico corrected abundance'] = insilico_abundance\n",
    "\n",
    "\n",
    "# Reduce corrected abundance estimates for use in bar plot\n",
    "mix_means_sems_corrected_insilico = mix_data.groupby(\"Species\")[\"Insilico corrected abundance\"].aggregate([lambda x: np.mean(x), sem])\n",
    "print(\"Mixed samples with correction\")\n",
    "print(mix_means_sems_corrected_insilico)\n",
    "mix_means_corrected_insilico = mix_means_sems_corrected_insilico[\"<lambda>\"]\n",
    "mix_sems_corrected_insilico = mix_means_sems_corrected_insilico[\"sem\"]\n",
    "\n",
    "# Normalize the corrected abundance estimates for the mixed samples\n",
    "mix_means_corrected_normalized_insilico = mix_means_corrected_insilico / sum(mix_means_corrected_insilico)\n",
    "mix_sems_corrected_normalized_insilico = mix_sems_corrected_insilico / sum(mix_means_corrected_insilico) \n",
    "print(\"\\nNormalized mixed samples with in silico correction\")\n",
    "print(\"{:<14} {:>8} {:>8}\".format(\"Species\", \"Abundance\", \"SEM\"))\n",
    "for species, v1, v2 in zip(mix_names, mix_means_corrected_normalized_insilico, mix_sems_corrected_normalized_insilico):\n",
    "    print(\"{:<14} {:<1.6f}  {:<1.6f}\".format(species, v1, v2))"
   ]
  },
  {
   "cell_type": "code",
   "execution_count": 63,
   "metadata": {
    "collapsed": false
   },
   "outputs": [
    {
     "data": {
      "image/png": "[encoded data removed]",
      "text/plain": [
       "<matplotlib.figure.Figure at 0x176c72aba8>"
      ]
     },
     "metadata": {},
     "output_type": "display_data"
    }
   ],
   "source": [
    "# Adjust bar plot settings\n",
    "font = {\"family\": \"sans\",\n",
    "        \"weight\": \"normal\",\n",
    "        \"size\": 12}\n",
    "mpl.rc(\"font\", **font)\n",
    "indices = np.arange(0, len(mix_names))\n",
    "width = 0.45\n",
    "\n",
    "# Create plot figure with three  subplots axes\n",
    "fig_mix, (ax_mix1, ax_mix2, ax_mix3) = plt.subplots(1, 3) #, sharey=True)\n",
    "\n",
    "# First plot with raw unmodified abundance estimations\n",
    "rects_mix1 = ax_mix1.bar(indices, \n",
    "                         mix_means, \n",
    "                         width, \n",
    "                         color=\"steelblue\", \n",
    "                         yerr=mix_sems, \n",
    "                         error_kw=dict(ecolor=\"black\"))\n",
    "ax_mix1.spines[\"top\"].set_color(\"none\")\n",
    "ax_mix1.spines[\"right\"].set_color(\"none\")\n",
    "ax_mix1.xaxis.set_ticks_position(\"none\")\n",
    "ax_mix1.yaxis.set_ticks_position(\"left\")\n",
    "# Adjust plot area, set tick labels\n",
    "ax_mix1.set_xlim([-width/2, len(mix_names)-width/2])\n",
    "ax_mix1.set_ylim([0, 0.55])\n",
    "ax_mix1.set_xlabel(\"Species\")\n",
    "ax_mix1.set_ylabel(\"Estimated abundance\")\n",
    "ax_mix1.set_title(\"Estimated abundance (unnormalized)\")\n",
    "ax_mix1.set_xticks(indices + width/2)\n",
    "ax_mix1.set_xticklabels(mix_names, style=\"italic\")\n",
    "ax_mix1.set_yticks(np.arange(0, 0.56, 0.05))\n",
    "# Place expected ratio line\n",
    "ax_mix1.plot([-.5,4], [0.25,0.25], color=\"r\")\n",
    "\n",
    "# Second plot with corrected and normalized estimated abundances\n",
    "rects_mix2 = ax_mix2.bar(indices, \n",
    "                         mix_means_corrected_normalized, \n",
    "                         width, \n",
    "                         color=\"steelblue\", \n",
    "                         yerr=mix_sems_corrected_normalized,  \n",
    "                         error_kw=dict(ecolor=\"black\"))\n",
    "ax_mix2.spines[\"top\"].set_color(\"none\")\n",
    "ax_mix2.spines[\"right\"].set_color(\"none\")\n",
    "ax_mix2.xaxis.set_ticks_position(\"none\")\n",
    "ax_mix2.yaxis.set_ticks_position(\"left\")\n",
    "# Adjust plot area, set tick labels\n",
    "ax_mix2.set_xlim([-width/2, len(mix_names)-width/2])\n",
    "ax_mix2.set_ylim([0, 0.55])\n",
    "ax_mix2.set_xlabel(\"Species\")\n",
    "ax_mix2.set_ylabel(\"Estimated abundance\")\n",
    "ax_mix2.set_title(\"Estimated abundance (normalized)\")\n",
    "ax_mix2.set_xticks(indices + width/2)\n",
    "ax_mix2.set_xticklabels(mix_names, style=\"italic\")\n",
    "ax_mix2.set_yticks(np.arange(0, 0.56, 0.05))\n",
    "# Place expected ratio line\n",
    "ax_mix2.plot([-.5,4], [0.25,0.25], color=\"r\")\n",
    "\n",
    "# Third plot with in silico corrected and normalized estimated abundances\n",
    "rects_mix3 = ax_mix3.bar(indices, \n",
    "                         mix_means_corrected_normalized_insilico, \n",
    "                         width, \n",
    "                         color=\"steelblue\", \n",
    "                         yerr=mix_sems_corrected_normalized_insilico,  \n",
    "                         error_kw=dict(ecolor=\"black\"))\n",
    "ax_mix3.spines[\"top\"].set_color(\"none\")\n",
    "ax_mix3.spines[\"right\"].set_color(\"none\")\n",
    "ax_mix3.xaxis.set_ticks_position(\"none\")\n",
    "ax_mix3.yaxis.set_ticks_position(\"left\")\n",
    "# Adjust plot area, set tick labels\n",
    "ax_mix3.set_xlim([-width/2, len(mix_names)-width/2])\n",
    "ax_mix3.set_ylim([0, 0.55])\n",
    "ax_mix3.set_xlabel(\"Species\")\n",
    "ax_mix3.set_ylabel(\"Estimated abundance\")\n",
    "ax_mix3.set_title(\"Estimated abundance (in silico normalized)\")\n",
    "ax_mix3.set_xticks(indices + width/2)\n",
    "ax_mix3.set_xticklabels(mix_names, style=\"italic\")\n",
    "ax_mix3.set_yticks(np.arange(0, 0.56, 0.05))\n",
    "# Place expected ratio line\n",
    "ax_mix3.plot([-.5,4], [0.25,0.25], color=\"r\")\n",
    "\n",
    "# Adjust figure size, save figures\n",
    "fig_mix.set_figheight(7)\n",
    "fig_mix.set_figwidth(21)\n",
    "plt.savefig(\"real_cultures_mix_tpr_insilico.png\")\n",
    "plt.savefig(\"real_cultures_mix_tpr_insilico.pdf\")"
   ]
  },
  {
   "cell_type": "code",
   "execution_count": 64,
   "metadata": {
    "collapsed": false
   },
   "outputs": [
    {
     "name": "stdout",
     "output_type": "stream",
     "text": [
      "          Species Estimated abundance  Corrected abundance  Insilico corrected abundance\n",
      "0         E. coli           0.0863787             2.312550                      0.319448\n",
      "1         E. coli           0.0767196             2.053953                      0.283726\n",
      "2         E. coli           0.0807292             2.161298                      0.298555\n",
      "3   P. aeruginosa            0.538206             3.718075                      0.966085\n",
      "4   P. aeruginosa             0.52381             3.618620                      0.940243\n",
      "5   P. aeruginosa                 0.5             3.454137                      0.897505\n",
      "6       S. aureus            0.169435             2.243043                      0.324154\n",
      "7       S. aureus            0.227513             3.011900                      0.435265\n",
      "8       S. aureus            0.242188             3.206163                      0.463339\n",
      "9   S. pneumoniae            0.122924             2.494185                      0.687492\n",
      "10  S. pneumoniae            0.113757             2.308182                      0.636223\n",
      "11  S. pneumoniae            0.111979             2.272117                      0.626282\n"
     ]
    }
   ],
   "source": [
    "# Print a table of all the relevant abundances, raw, and normalized, and in silico corrected and normalized\n",
    "print(mix_data[[\"Species\", \"Estimated abundance\", \"Corrected abundance\", \"Insilico corrected abundance\"]])"
   ]
  },
  {
   "cell_type": "code",
   "execution_count": null,
   "metadata": {
    "collapsed": true
   },
   "outputs": [],
   "source": []
  }
 ],
 "metadata": {
  "kernelspec": {
   "display_name": "Python 3",
   "language": "python",
   "name": "python3"
  },
  "language_info": {
   "codemirror_mode": {
    "name": "ipython",
    "version": 3
   },
   "file_extension": ".py",
   "mimetype": "text/x-python",
   "name": "python",
   "nbconvert_exporter": "python",
   "pygments_lexer": "ipython3",
   "version": "3.5.1"
  }
 },
 "nbformat": 4,
 "nbformat_minor": 0
}
