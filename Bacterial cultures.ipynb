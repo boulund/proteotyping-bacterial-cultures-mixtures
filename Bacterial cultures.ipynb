{
 "cells": [
  {
   "cell_type": "markdown",
   "metadata": {
    "collapsed": true
   },
   "source": [
    "# Proteotyping of pure bacterial cultures\n",
    "Pure cultures of four species of bacteria: *Escherichia coli*, *Pseudomonas aeruginosa*, *Staphyoloccus aureus*, *Streptococcus pneumoniae*. Each species was grown in three identical replicates and run through the proteotyping workflow."
   ]
  },
  {
   "cell_type": "code",
   "execution_count": 1,
   "metadata": {
    "collapsed": false
   },
   "outputs": [],
   "source": [
    "# Import all required libraries\n",
    "import matplotlib as mpl, matplotlib\n",
    "matplotlib.use(\"Agg\")\n",
    "%matplotlib inline\n",
    "from pylab import *\n",
    "import numpy as np\n",
    "import pandas as pd\n",
    "from scipy.stats import sem\n",
    "from os import listdir, path\n",
    "\n",
    "pd.set_option('display.max_columns', 500)\n",
    "pd.set_option('display.width', 1000)"
   ]
  },
  {
   "cell_type": "markdown",
   "metadata": {},
   "source": [
    "# Bacterial samples proteotyping raw data\n",
    "Raw data from the proteotyping of real bacterial samples were manually entered into the next cell of the notebook.\n",
    "The data are from the following runs:\n",
    "\n",
    "    QE_150508_{32,35,38}     S. pneumoniae\n",
    "    QE_150611_{128,131,137}  S. aureus\n",
    "    QE_150611_{140,143,146}  E. coli\n",
    "    QE_150611_{152,155,157}  P. aeruginosa"
   ]
  },
  {
   "cell_type": "code",
   "execution_count": 3,
   "metadata": {
    "collapsed": false
   },
   "outputs": [
    {
     "name": "stdout",
     "output_type": "stream",
     "text": [
      "          Species Number of spectra Discriminative peptides Correct assignments True positive rate (TPR)\n",
      "0         E. coli              3490                     150                 125                 0.833333\n",
      "1         E. coli              4830                     217                 177                 0.815668\n",
      "2         E. coli              4925                     222                 195                 0.878378\n",
      "3   P. aeruginosa              4450                     693                 662                 0.955267\n",
      "4   P. aeruginosa              3048                     372                 353                 0.948925\n",
      "5   P. aeruginosa              5192                     938                 881                 0.939232\n",
      "6       S. aureus              3973                     320                 310                  0.96875\n",
      "7       S. aureus              3533                     227                 221                 0.973568\n",
      "8       S. aureus              4103                     362                 353                 0.975138\n",
      "9   S. pneumoniae              5333                     279                 263                 0.942652\n",
      "10  S. pneumoniae              5193                     268                 255                 0.951493\n",
      "11  S. pneumoniae              4754                     263                 235                 0.893536\n"
     ]
    }
   ],
   "source": [
    "species = pd.Series([\"E. coli\", \"E. coli\", \"E. coli\", \n",
    "                     \"P. aeruginosa\", \"P. aeruginosa\", \"P. aeruginosa\", \n",
    "                     \"S. aureus\", \"S. aureus\", \"S. aureus\", \n",
    "                     \"S. pneumoniae\", \"S. pneumoniae\", \"S. pneumoniae\"],\n",
    "                   name=\"Species\")\n",
    "numspectra = pd.Series([3490, 4830, 4925,\n",
    "                        4450, 3048, 5192,\n",
    "                        3973, 3533, 4103, \n",
    "                        5333, 5193, 4754], \n",
    "                       name=\"Number of spectra\")\n",
    "discriminative_peptides = pd.Series([150, 217, 222,\n",
    "                                     693, 372, 938,\n",
    "                                     320, 227, 362,\n",
    "                                     279, 268, 263], \n",
    "                                     name=\"Discriminative peptides\")\n",
    "correct_assignments = pd.Series([125, 177, 195,\n",
    "                                 662, 353, 881, \n",
    "                                 310, 221, 353,\n",
    "                                 263, 255, 235], \n",
    "                                name=\"Correct assignments\")\n",
    "TPR = pd.Series(correct_assignments / discriminative_peptides, name=\"True positive rate (TPR)\")\n",
    "raw_data = pd.DataFrame([species, numspectra, discriminative_peptides, correct_assignments, TPR]).transpose()\n",
    "print(raw_data)"
   ]
  },
  {
   "cell_type": "code",
   "execution_count": 5,
   "metadata": {
    "collapsed": false
   },
   "outputs": [
    {
     "name": "stdout",
     "output_type": "stream",
     "text": [
      "Means\n",
      "               Number of spectra  Discriminative peptides  Correct assignments  True positive rate (TPR)\n",
      "Species                                                                                                 \n",
      "E. coli              4415.000000               196.333333           165.666667                  0.842460\n",
      "P. aeruginosa        4230.000000               667.666667           632.000000                  0.947808\n",
      "S. aureus            3869.666667               303.000000           294.666667                  0.972485\n",
      "S. pneumoniae        5093.333333               270.000000           251.000000                  0.929227\n",
      "Standard deviations\n",
      "               Number of spectra  Discriminative peptides  Correct assignments  True positive rate (TPR)\n",
      "Species                                                                                                 \n",
      "E. coli               655.222608                32.826141            29.679772                  0.026402\n",
      "P. aeruginosa         889.000937               231.761851           216.596399                  0.006594\n",
      "S. aureus             243.903442                56.409219            54.968678                  0.002718\n",
      "S. pneumoniae         246.658108                 6.683313            11.775681                  0.025494\n",
      "Overall maximum: 5333\n",
      "Overall minimum: 3048\n"
     ]
    }
   ],
   "source": [
    "print(\"Means\")\n",
    "print(raw_data.groupby(\"Species\").aggregate(lambda x: np.mean(x)))\n",
    "print(\"Standard deviations\")\n",
    "print(raw_data.groupby(\"Species\").aggregate(lambda x: np.std(x)))\n",
    "print(\"Overall maximum:\", np.max(raw_data[\"Number of spectra\"]))\n",
    "print(\"Overall minimum:\", np.min(raw_data[\"Number of spectra\"]))"
   ]
  },
  {
   "cell_type": "markdown",
   "metadata": {},
   "source": [
    "## Pure bacterial samples barchart\n",
    "Plot a barchart of the average sensitivity for each species, along with standard error bars (SEM) to indicate the variability of the results."
   ]
  },
  {
   "cell_type": "code",
   "execution_count": 7,
   "metadata": {
    "collapsed": false
   },
   "outputs": [
    {
     "name": "stdout",
     "output_type": "stream",
     "text": [
      "               <lambda>       sem\n",
      "Species                          \n",
      "E. coli        0.842460  0.018669\n",
      "P. aeruginosa  0.947808  0.004662\n",
      "S. aureus      0.972485  0.001922\n",
      "S. pneumoniae  0.929227  0.018027\n"
     ]
    }
   ],
   "source": [
    "means_sems = raw_data.groupby(\"Species\")[\"True positive rate (TPR)\"].aggregate([lambda x: np.mean(x), sem])\n",
    "print(means_sems)\n",
    "names = means_sems.index\n",
    "means = means_sems[\"<lambda>\"]\n",
    "sems = means_sems[\"sem\"]"
   ]
  },
  {
   "cell_type": "code",
   "execution_count": 8,
   "metadata": {
    "collapsed": false
   },
   "outputs": [
    {
     "data": {
      "image/png": "[encoded data removed]",
      "text/plain": [
       "<matplotlib.figure.Figure at 0xdbaee42940>"
      ]
     },
     "metadata": {},
     "output_type": "display_data"
    }
   ],
   "source": [
    "font = {\"family\": \"sans\",\n",
    "        \"weight\": \"normal\",\n",
    "        \"size\": 14}\n",
    "mpl.rc(\"font\", **font)\n",
    "\n",
    "indices = np.arange(0, len(means_sems))\n",
    "width = 0.45\n",
    "\n",
    "fig, ax = plt.subplots()\n",
    "rects = ax.bar(indices, means, width, yerr=sems, color=\"steelblue\", error_kw=dict(ecolor=\"black\"))\n",
    "ax.spines[\"top\"].set_color(\"none\")\n",
    "ax.spines[\"right\"].set_color(\"none\")\n",
    "ax.xaxis.set_ticks_position(\"none\")\n",
    "ax.yaxis.set_ticks_position(\"left\")\n",
    "\n",
    "# Adjust plot area, set tick labels\n",
    "ylim([0.8, 1])\n",
    "xlim([-width/2, len(names)-width/2])\n",
    "xlabel(\"Species\")\n",
    "ylabel(\"True positive rate (TPR)\")\n",
    "ax.set_xticks(indices + width/2)\n",
    "ax.set_xticklabels(names)\n",
    "\n",
    "# Adjust figure size, save figures\n",
    "fig.set_figheight(7)\n",
    "fig.set_figwidth(10)\n",
    "plt.savefig(\"real_cultures_tpr.png\")\n",
    "plt.savefig(\"real_cultures_tpr.pdf\")"
   ]
  },
  {
   "cell_type": "markdown",
   "metadata": {
    "collapsed": true
   },
   "source": [
    "# Mixed samples\n",
    "Mixed samples with equal ratio of all four species were run (1:1:1:1)."
   ]
  },
  {
   "cell_type": "code",
   "execution_count": 6,
   "metadata": {
    "collapsed": false
   },
   "outputs": [
    {
     "name": "stdout",
     "output_type": "stream",
     "text": [
      "          Species Number of spectra Discriminative fragments Species assignments Estimated abundance\n",
      "0         E. coli              2753                      736                  61          0.08288043\n",
      "1         E. coli              3418                      943                  72          0.07635207\n",
      "2         E. coli              3144                      899                  63          0.07007786\n",
      "3   P. aeruginosa              2753                      736                 344           0.4673913\n",
      "4   P. aeruginosa              3418                      943                 403           0.4273595\n",
      "5   P. aeruginosa              3144                      899                 378           0.4204672\n",
      "6       S. aureus              2753                      736                 246           0.3342391\n",
      "7       S. aureus              3418                      943                 360           0.3817603\n",
      "8       S. aureus              3144                      899                 358           0.3982202\n",
      "9   S. pneumoniae              2753                      736                  67          0.09103261\n",
      "10  S. pneumoniae              3418                      943                  84          0.08907741\n",
      "11  S. pneumoniae              3144                      899                  82          0.09121246\n"
     ]
    }
   ],
   "source": [
    "# Raw data for mixed samples\n",
    "species = pd.Series([\"E. coli\", \"E. coli\", \"E. coli\", \n",
    "                     \"P. aeruginosa\", \"P. aeruginosa\", \"P. aeruginosa\", \n",
    "                     \"S. aureus\", \"S. aureus\", \"S. aureus\", \n",
    "                     \"S. pneumoniae\", \"S. pneumoniae\", \"S. pneumoniae\"],\n",
    "                   name=\"Species\")\n",
    "numspectra_mix = pd.Series([2753, 3418, 3144,\n",
    "                        2753, 3418, 3144,\n",
    "                        2753, 3418, 3144,\n",
    "                        2753, 3418, 3144],\n",
    "                       name=\"Number of spectra\")\n",
    "discriminative_fragments = pd.Series([736, 943, 899,\n",
    "                                      736, 943, 899,\n",
    "                                      736, 943, 899,\n",
    "                                      736, 943, 899],\n",
    "                                     name=\"Discriminative fragments\")\n",
    "species_assignments = pd.Series([61,  72,  63,\n",
    "                                 344, 403, 378, \n",
    "                                 246, 360, 358,\n",
    "                                 67,  84,  82], \n",
    "                                name=\"Species assignments\")\n",
    "estimated_abundance = pd.Series(species_assignments / discriminative_fragments, name=\"Estimated abundance\")\n",
    "mix_data = pd.DataFrame([species, numspectra_mix, discriminative_fragments, species_assignments, estimated_abundance]).transpose()\n",
    "print mix_data"
   ]
  },
  {
   "cell_type": "code",
   "execution_count": 7,
   "metadata": {
    "collapsed": false
   },
   "outputs": [
    {
     "name": "stdout",
     "output_type": "stream",
     "text": [
      "Means\n",
      "               Number of spectra  Discriminative fragments  Species assignments  Estimated abundance\n",
      "Species                                                                                             \n",
      "E. coli                     3105                859.333333            65.333333             0.076437\n",
      "P. aeruginosa               3105                859.333333           375.000000             0.438406\n",
      "S. aureus                   3105                859.333333           321.333333             0.371407\n",
      "S. pneumoniae               3105                859.333333            77.666667             0.090441\n",
      "Standard deviations\n",
      "               Number of spectra  Discriminative fragments  Species assignments  Estimated abundance\n",
      "Species                                                                                             \n",
      "E. coli               272.882148                 89.040565             4.784233             0.005227\n",
      "P. aeruginosa         272.882148                 89.040565            24.179881             0.020688\n",
      "S. aureus             272.882148                 89.040565            53.274968             0.027127\n",
      "S. pneumoniae         272.882148                 89.040565             7.586538             0.000967\n",
      "Overall average spectra: 3105.0\n",
      "Overall average discriminative: 859.333333333\n",
      "Overall maximum: 3418\n",
      "Overall minimum: 2753\n"
     ]
    }
   ],
   "source": [
    "print \"Means\"\n",
    "print mix_data.groupby(\"Species\").aggregate(lambda x: np.mean(x))\n",
    "print \"Standard deviations\"\n",
    "print mix_data.groupby(\"Species\").aggregate(lambda x: np.std(x))\n",
    "print \"Overall average spectra:\", np.mean(mix_data[\"Number of spectra\"])\n",
    "print \"Overall average discriminative:\", np.mean(mix_data[\"Discriminative fragments\"])\n",
    "print \"Overall maximum:\", np.max(mix_data[\"Number of spectra\"]) \n",
    "print \"Overall minimum:\", np.min(mix_data[\"Number of spectra\"])"
   ]
  },
  {
   "cell_type": "markdown",
   "metadata": {},
   "source": [
    "## Adjustment ratios\n",
    "The adjustment ratio used to modify the raw estimations of abundance are calculated from the TPR data of the pure bacterial cultures.  "
   ]
  },
  {
   "cell_type": "code",
   "execution_count": 8,
   "metadata": {
    "collapsed": false
   },
   "outputs": [
    {
     "name": "stdout",
     "output_type": "stream",
     "text": [
      "          Species Number of spectra Discriminative fragments Species assignments Estimated abundance  Corrected abundance\n",
      "0         E. coli              2753                      736                  61          0.08288043             0.747072\n",
      "1         E. coli              3418                      943                  72          0.07635207             0.688226\n",
      "2         E. coli              3144                      899                  63          0.07007786             0.631671\n",
      "3   P. aeruginosa              2753                      736                 344           0.4673913             0.987782\n",
      "4   P. aeruginosa              3418                      943                 403           0.4273595             0.903179\n",
      "5   P. aeruginosa              3144                      899                 378           0.4204672             0.888612\n",
      "6       S. aureus              2753                      736                 246           0.3342391             0.651737\n",
      "7       S. aureus              3418                      943                 360           0.3817603             0.744399\n",
      "8       S. aureus              3144                      899                 358           0.3982202             0.776495\n",
      "9   S. pneumoniae              2753                      736                  67          0.09103261             0.839245\n",
      "10  S. pneumoniae              3418                      943                  84          0.08907741             0.821220\n",
      "11  S. pneumoniae              3144                      899                  82          0.09121246             0.840903\n"
     ]
    }
   ],
   "source": [
    "# Compute adjustment ratios based on data from pure samples\n",
    "adjustment_ratios = {}\n",
    "for name, group in raw_data.groupby(\"Species\"):\n",
    "    adjustment_ratios[name] = np.mean(group[\"Correct assignments\"] / group[\"Number of spectra\"])\n",
    "\n",
    "# Add a column with corrected values for estimated abundance\n",
    "adjusted_abundance = pd.Series(index=mix_data.index)\n",
    "for row in mix_data.iterrows():\n",
    "    adjusted_abundance[row[0]] = row[1][\"Estimated abundance\"] / adjustment_ratios[row[1][\"Species\"]]\n",
    "mix_data.loc[:,'Corrected abundance'] = adjusted_abundance\n",
    "\n",
    "print mix_data"
   ]
  },
  {
   "cell_type": "markdown",
   "metadata": {},
   "source": [
    "## Plot mixture and adjusted mixture results\n",
    "The per species results from the mixed samples are plotted in a bar plot with standard error bars. The adjusted values are plotted alongside the raw per species TPR from the mixed samples to illustrate how adjusting the values improve the results. "
   ]
  },
  {
   "cell_type": "code",
   "execution_count": 9,
   "metadata": {
    "collapsed": false
   },
   "outputs": [
    {
     "name": "stdout",
     "output_type": "stream",
     "text": [
      "Mixed samples without correction\n",
      "               <lambda>       sem\n",
      "Species                          \n",
      "E. coli        0.076437  0.003696\n",
      "P. aeruginosa  0.438406  0.014629\n",
      "S. aureus      0.371407  0.019182\n",
      "S. pneumoniae  0.090441  0.000684\n",
      "Mixed samples with correction\n",
      "               <lambda>       sem\n",
      "Species                          \n",
      "E. coli        0.688990  0.033315\n",
      "P. aeruginosa  0.926524  0.030916\n",
      "S. aureus      0.724210  0.037402\n",
      "S. pneumoniae  0.833789  0.006303\n",
      "\n",
      "Normalized mixed samples with correction\n",
      "Species        Abundance      SEM\n",
      "E. coli        0.217106  0.010498\n",
      "P. aeruginosa  0.291955  0.009742\n",
      "S. aureus      0.228205  0.011786\n",
      "S. pneumoniae  0.262734  0.001986\n"
     ]
    }
   ],
   "source": [
    "# Reduce estimated abundances for the mixed samples for use in bar plot\n",
    "mix_means_sems = mix_data.groupby(\"Species\")[\"Estimated abundance\"].aggregate([lambda x: np.mean(x), sem])\n",
    "print \"Mixed samples without correction\"\n",
    "print mix_means_sems\n",
    "mix_names = mix_means_sems.index\n",
    "mix_means = mix_means_sems[\"<lambda>\"]\n",
    "mix_sems = mix_means_sems[\"sem\"]\n",
    "\n",
    "# Reduce corrected abundance estimates for use in bar plot\n",
    "mix_means_sems_corrected = mix_data.groupby(\"Species\")[\"Corrected abundance\"].aggregate([lambda x: np.mean(x), sem])\n",
    "print \"Mixed samples with correction\"\n",
    "print mix_means_sems_corrected\n",
    "mix_means_corrected = mix_means_sems_corrected[\"<lambda>\"]\n",
    "mix_sems_corrected = mix_means_sems_corrected[\"sem\"]\n",
    "\n",
    "# Normalize the corrected abundance estimates for the mixed samples\n",
    "mix_means_corrected_normalized = mix_means_corrected / sum(mix_means_corrected)\n",
    "mix_sems_corrected_normalized = mix_sems_corrected / sum(mix_means_corrected) \n",
    "print \"\\nNormalized mixed samples with correction\"\n",
    "print \"{:<14} {:>8} {:>8}\".format(\"Species\", \"Abundance\", \"SEM\")\n",
    "for species, v1, v2 in zip(mix_names, mix_means_corrected_normalized, mix_sems_corrected_normalized):\n",
    "    print \"{:<14} {:<1.6f}  {:<1.6f}\".format(species, v1, v2)"
   ]
  },
  {
   "cell_type": "code",
   "execution_count": 10,
   "metadata": {
    "collapsed": false
   },
   "outputs": [
    {
     "data": {
      "image/png": "[encoded data removed]",
      "text/plain": [
       "<matplotlib.figure.Figure at 0xc477da0>"
      ]
     },
     "metadata": {},
     "output_type": "display_data"
    }
   ],
   "source": [
    "# Adjust bar plot settings\n",
    "font = {\"family\": \"sans\",\n",
    "        \"weight\": \"normal\",\n",
    "        \"size\": 12}\n",
    "mpl.rc(\"font\", **font)\n",
    "indices = np.arange(0, len(mix_names))\n",
    "width = 0.45\n",
    "\n",
    "# Create plot figure with two subplots axes\n",
    "fig_mix, (ax_mix1, ax_mix2) = plt.subplots(1, 2) #, sharey=True)\n",
    "\n",
    "# First plot with raw unmodified abundance estimations\n",
    "rects_mix1 = ax_mix1.bar(indices, \n",
    "                         mix_means, \n",
    "                         width, \n",
    "                         color=\"steelblue\", \n",
    "                         yerr=mix_sems, \n",
    "                         error_kw=dict(ecolor=\"black\"))\n",
    "ax_mix1.spines[\"top\"].set_color(\"none\")\n",
    "ax_mix1.spines[\"right\"].set_color(\"none\")\n",
    "ax_mix1.xaxis.set_ticks_position(\"none\")\n",
    "ax_mix1.yaxis.set_ticks_position(\"left\")\n",
    "# Adjust plot area, set tick labels\n",
    "ax_mix1.set_xlim([-width/2, len(mix_names)-width/2])\n",
    "ax_mix1.set_ylim([0, 0.5])\n",
    "ax_mix1.set_xlabel(\"Species\")\n",
    "ax_mix1.set_ylabel(\"Estimated abundance\")\n",
    "ax_mix1.set_title(\"Estimated abundance (unmodified)\")\n",
    "ax_mix1.set_xticks(indices + width/2)\n",
    "ax_mix1.set_xticklabels(mix_names)\n",
    "ax_mix1.set_yticks(np.arange(0, 0.51, 0.05))\n",
    "# Place expected ratio line\n",
    "ax_mix1.plot([-.5,4], [0.25,0.25], color=\"r\")\n",
    "\n",
    "# Second plot with corrected and normalized estimated abundances\n",
    "rects_mix2 = ax_mix2.bar(indices, \n",
    "                         mix_means_corrected_normalized, \n",
    "                         width, \n",
    "                         color=\"steelblue\", \n",
    "                         yerr=mix_sems_corrected_normalized,  \n",
    "                         error_kw=dict(ecolor=\"black\"))\n",
    "ax_mix2.spines[\"top\"].set_color(\"none\")\n",
    "ax_mix2.spines[\"right\"].set_color(\"none\")\n",
    "ax_mix2.xaxis.set_ticks_position(\"none\")\n",
    "ax_mix2.yaxis.set_ticks_position(\"left\")\n",
    "# Adjust plot area, set tick labels\n",
    "ax_mix2.set_xlim([-width/2, len(mix_names)-width/2])\n",
    "ax_mix2.set_ylim([0, 0.5])\n",
    "ax_mix2.set_xlabel(\"Species\")\n",
    "ax_mix2.set_ylabel(\"Estimated abundance\")\n",
    "ax_mix2.set_title(\"Estimated abundance (corrected)\")\n",
    "ax_mix2.set_xticks(indices + width/2)\n",
    "ax_mix2.set_xticklabels(mix_names)\n",
    "ax_mix2.set_yticks(np.arange(0, 0.51, 0.05))\n",
    "# Place expected ratio line\n",
    "ax_mix2.plot([-.5,4], [0.25,0.25], color=\"r\")\n",
    "\n",
    "# Adjust figure size, save figures\n",
    "fig_mix.set_figheight(7)\n",
    "fig_mix.set_figwidth(14)\n",
    "plt.savefig(\"real_cultures_mix_tpr.png\")\n",
    "plt.savefig(\"real_cultures_mix_tpr.pdf\")"
   ]
  },
  {
   "cell_type": "markdown",
   "metadata": {},
   "source": [
    "# Supplementary figure normalized with in-silico results"
   ]
  },
  {
   "cell_type": "code",
   "execution_count": 11,
   "metadata": {
    "collapsed": false
   },
   "outputs": [
    {
     "name": "stdout",
     "output_type": "stream",
     "text": [
      "Mixed samples with correction\n",
      "               <lambda>       sem\n",
      "Species                          \n",
      "E. coli        0.282680  0.013669\n",
      "P. aeruginosa  0.786943  0.026258\n",
      "S. aureus      0.710554  0.036697\n",
      "S. pneumoniae  0.505821  0.003824\n",
      "\n",
      "Normalized mixed samples with in silico correction\n",
      "Species        Abundance      SEM\n",
      "E. coli        0.123657  0.005979\n",
      "P. aeruginosa  0.344245  0.011487\n",
      "S. aureus      0.310829  0.016053\n",
      "S. pneumoniae  0.221269  0.001673\n"
     ]
    }
   ],
   "source": [
    "# Add a column with in-silico-corrected values for estimated abundance\n",
    "insilico_abundance = pd.Series(index=mix_data.index)\n",
    "insilico_adjustment_ratios = {\"E. coli\": 0.2704, \n",
    "                              \"P. aeruginosa\": 0.5571, \n",
    "                              \"S. aureus\":  0.5227, \n",
    "                              \"S. pneumoniae\": 0.1788}\n",
    "for row in mix_data.iterrows():\n",
    "    insilico_abundance[row[0]] = row[1][\"Estimated abundance\"] / insilico_adjustment_ratios[row[1][\"Species\"]]\n",
    "mix_data.loc[:,'Insilico corrected abundance'] = insilico_abundance\n",
    "\n",
    "\n",
    "# Reduce corrected abundance estimates for use in bar plot\n",
    "mix_means_sems_corrected_insilico = mix_data.groupby(\"Species\")[\"Insilico corrected abundance\"].aggregate([lambda x: np.mean(x), sem])\n",
    "print \"Mixed samples with correction\"\n",
    "print mix_means_sems_corrected_insilico\n",
    "mix_means_corrected_insilico = mix_means_sems_corrected_insilico[\"<lambda>\"]\n",
    "mix_sems_corrected_insilico = mix_means_sems_corrected_insilico[\"sem\"]\n",
    "\n",
    "# Normalize the corrected abundance estimates for the mixed samples\n",
    "mix_means_corrected_normalized_insilico = mix_means_corrected_insilico / sum(mix_means_corrected_insilico)\n",
    "mix_sems_corrected_normalized_insilico = mix_sems_corrected_insilico / sum(mix_means_corrected_insilico) \n",
    "print \"\\nNormalized mixed samples with in silico correction\"\n",
    "print \"{:<14} {:>8} {:>8}\".format(\"Species\", \"Abundance\", \"SEM\")\n",
    "for species, v1, v2 in zip(mix_names, mix_means_corrected_normalized_insilico, mix_sems_corrected_normalized_insilico):\n",
    "    print \"{:<14} {:<1.6f}  {:<1.6f}\".format(species, v1, v2)"
   ]
  },
  {
   "cell_type": "code",
   "execution_count": 13,
   "metadata": {
    "collapsed": false
   },
   "outputs": [
    {
     "data": {
      "image/png": "[encoded data removed]",
      "text/plain": [
       "<matplotlib.figure.Figure at 0xc48c518>"
      ]
     },
     "metadata": {},
     "output_type": "display_data"
    }
   ],
   "source": [
    "# Adjust bar plot settings\n",
    "font = {\"family\": \"sans\",\n",
    "        \"weight\": \"normal\",\n",
    "        \"size\": 12}\n",
    "mpl.rc(\"font\", **font)\n",
    "indices = np.arange(0, len(mix_names))\n",
    "width = 0.45\n",
    "\n",
    "# Create plot figure with three  subplots axes\n",
    "fig_mix, (ax_mix1, ax_mix2, ax_mix3) = plt.subplots(1, 3) #, sharey=True)\n",
    "\n",
    "# First plot with raw unmodified abundance estimations\n",
    "rects_mix1 = ax_mix1.bar(indices, \n",
    "                         mix_means, \n",
    "                         width, \n",
    "                         color=\"steelblue\", \n",
    "                         yerr=mix_sems, \n",
    "                         error_kw=dict(ecolor=\"black\"))\n",
    "ax_mix1.spines[\"top\"].set_color(\"none\")\n",
    "ax_mix1.spines[\"right\"].set_color(\"none\")\n",
    "ax_mix1.xaxis.set_ticks_position(\"none\")\n",
    "ax_mix1.yaxis.set_ticks_position(\"left\")\n",
    "# Adjust plot area, set tick labels\n",
    "ax_mix1.set_xlim([-width/2, len(mix_names)-width/2])\n",
    "ax_mix1.set_ylim([0, 0.5])\n",
    "ax_mix1.set_xlabel(\"Species\")\n",
    "ax_mix1.set_ylabel(\"Estimated abundance\")\n",
    "ax_mix1.set_title(\"Estimated abundance (unmodified)\")\n",
    "ax_mix1.set_xticks(indices + width/2)\n",
    "ax_mix1.set_xticklabels(mix_names)\n",
    "ax_mix1.set_yticks(np.arange(0, 0.51, 0.05))\n",
    "# Place expected ratio line\n",
    "ax_mix1.plot([-.5,4], [0.25,0.25], color=\"r\")\n",
    "\n",
    "# Second plot with corrected and normalized estimated abundances\n",
    "rects_mix2 = ax_mix2.bar(indices, \n",
    "                         mix_means_corrected_normalized, \n",
    "                         width, \n",
    "                         color=\"steelblue\", \n",
    "                         yerr=mix_sems_corrected_normalized,  \n",
    "                         error_kw=dict(ecolor=\"black\"))\n",
    "ax_mix2.spines[\"top\"].set_color(\"none\")\n",
    "ax_mix2.spines[\"right\"].set_color(\"none\")\n",
    "ax_mix2.xaxis.set_ticks_position(\"none\")\n",
    "ax_mix2.yaxis.set_ticks_position(\"left\")\n",
    "# Adjust plot area, set tick labels\n",
    "ax_mix2.set_xlim([-width/2, len(mix_names)-width/2])\n",
    "ax_mix2.set_ylim([0, 0.5])\n",
    "ax_mix2.set_xlabel(\"Species\")\n",
    "ax_mix2.set_ylabel(\"Estimated abundance\")\n",
    "ax_mix2.set_title(\"Estimated abundance (corrected)\")\n",
    "ax_mix2.set_xticks(indices + width/2)\n",
    "ax_mix2.set_xticklabels(mix_names)\n",
    "ax_mix2.set_yticks(np.arange(0, 0.51, 0.05))\n",
    "# Place expected ratio line\n",
    "ax_mix2.plot([-.5,4], [0.25,0.25], color=\"r\")\n",
    "\n",
    "# Third plot with in silico corrected and normalized estimated abundances\n",
    "rects_mix3 = ax_mix3.bar(indices, \n",
    "                         mix_means_corrected_normalized_insilico, \n",
    "                         width, \n",
    "                         color=\"steelblue\", \n",
    "                         yerr=mix_sems_corrected_normalized_insilico,  \n",
    "                         error_kw=dict(ecolor=\"black\"))\n",
    "ax_mix3.spines[\"top\"].set_color(\"none\")\n",
    "ax_mix3.spines[\"right\"].set_color(\"none\")\n",
    "ax_mix3.xaxis.set_ticks_position(\"none\")\n",
    "ax_mix3.yaxis.set_ticks_position(\"left\")\n",
    "# Adjust plot area, set tick labels\n",
    "ax_mix3.set_xlim([-width/2, len(mix_names)-width/2])\n",
    "ax_mix3.set_ylim([0, 0.5])\n",
    "ax_mix3.set_xlabel(\"Species\")\n",
    "ax_mix3.set_ylabel(\"Estimated abundance\")\n",
    "ax_mix3.set_title(\"Estimated abundance (in silico corrected)\")\n",
    "ax_mix3.set_xticks(indices + width/2)\n",
    "ax_mix3.set_xticklabels(mix_names)\n",
    "ax_mix3.set_yticks(np.arange(0, 0.51, 0.05))\n",
    "# Place expected ratio line\n",
    "ax_mix3.plot([-.5,4], [0.25,0.25], color=\"r\")\n",
    "\n",
    "# Adjust figure size, save figures\n",
    "fig_mix.set_figheight(7)\n",
    "fig_mix.set_figwidth(21)\n",
    "plt.savefig(\"real_cultures_mix_tpr_insilico.png\")\n",
    "plt.savefig(\"real_cultures_mix_tpr_insilico.pdf\")"
   ]
  },
  {
   "cell_type": "code",
   "execution_count": 19,
   "metadata": {
    "collapsed": false
   },
   "outputs": [
    {
     "name": "stdout",
     "output_type": "stream",
     "text": [
      "          Species Estimated abundance  Corrected abundance  Insilico corrected abundance\n",
      "0         E. coli          0.08288043             0.747072                      0.306510\n",
      "1         E. coli          0.07635207             0.688226                      0.282367\n",
      "2         E. coli          0.07007786             0.631671                      0.259164\n",
      "3   P. aeruginosa           0.4673913             0.987782                      0.838972\n",
      "4   P. aeruginosa           0.4273595             0.903179                      0.767115\n",
      "5   P. aeruginosa           0.4204672             0.888612                      0.754743\n",
      "6       S. aureus           0.3342391             0.651737                      0.639447\n",
      "7       S. aureus           0.3817603             0.744399                      0.730362\n",
      "8       S. aureus           0.3982202             0.776495                      0.761852\n",
      "9   S. pneumoniae          0.09103261             0.839245                      0.509131\n",
      "10  S. pneumoniae          0.08907741             0.821220                      0.498196\n",
      "11  S. pneumoniae          0.09121246             0.840903                      0.510137\n"
     ]
    }
   ],
   "source": [
    "print mix_data[[\"Species\", \"Estimated abundance\", \"Corrected abundance\", \"Insilico corrected abundance\"]]"
   ]
  }
 ],
 "metadata": {
  "kernelspec": {
   "display_name": "Python 3",
   "language": "python",
   "name": "python3"
  },
  "language_info": {
   "codemirror_mode": {
    "name": "ipython",
    "version": 3
   },
   "file_extension": ".py",
   "mimetype": "text/x-python",
   "name": "python",
   "nbconvert_exporter": "python",
   "pygments_lexer": "ipython3",
   "version": "3.5.1"
  }
 },
 "nbformat": 4,
 "nbformat_minor": 0
}
